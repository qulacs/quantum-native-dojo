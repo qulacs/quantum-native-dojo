{
 "cells": [
  {
   "cell_type": "markdown",
   "metadata": {},
   "source": [
    "# VQE アルゴリズム\n",
    "## 概要\n",
    "今回は量子化学のアルゴリズム、VQE(Variational Quantum Eigensolver : 変分量子固有値ソルバー)アルゴリズムを紹介する。このアルゴリズムは物質(今回は水素化ヘリウムイオン)の基底エネルギーの値を求めるのに用いられる。"
   ]
  },
  {
   "cell_type": "markdown",
   "metadata": {},
   "source": [
    "## 背景\n",
    "\n",
    "化合物の基底エネルギーとは、化合物の状態を行列にした時にその固有値のうち最小のものを指す。行列力学(行列を用いた量子力学の形式)では系全体のエネルギーの演算子はハミルトニアン$\\hat{H}$で表され、$$\\hat{H}|\\psi\\rangle = E|\\psi\\rangle$$で表される。ちなみに、量子系のハミルトニアンは離散値(⇄連続値)で、Eはハミルトニアン行列の固有値である。　\n",
    "\n",
    "そして、Eの期待値は$E = \\sum_{i=1}^ \\langle|\\psi\\hat{H}|\\psi\\rangle$で求められる。ちなみに、Eの期待値は理論上の基底エネルギー以上であることが知られているので、Eの期待値の最小値が求めたい基底エネルギーである。"
   ]
  },
  {
   "cell_type": "markdown",
   "metadata": {},
   "source": [
    "## 化学的説明\n",
    "\n",
    "各原子は複数のエネルギー状態を取るが、そのうち1番安定している状態(エネルギーが少ない状態)を基底状態、不安定な状態(基底状態よりはエネルギーが多い状態)を励起状態という。また、基底エネルギーは物質によって固有なので、基底エネルギーを求めることがその物質の性質を知るのに非常に重要であるが、古典コンピュータでこれを求めようとすると電子数が多ければ多くなるほどパラメータが指数関数的に多くなるため、大きい分子の計算は困難だった。"
   ]
  },
  {
   "cell_type": "markdown",
   "metadata": {},
   "source": [
    "## アルゴリズム的説明\n",
    "\n",
    "VQE以前に基底状態を求めるアルゴリズムは提案されており、そのうち１つが位相推定アルゴリズムである。しかし、これは計算を全て量子計算で行うので、NISQ(今開発されている、エラーの影響が大きい中規模量子コンピュータ)では理論値との誤差が大きくなってしまう。そこで考案されたのが、量子状態を計算するのは量子計算で、これを最小化するのは古典計算で分担するハイブリッド量子計算である。\n",
    "\n",
    "![screen shot 2019-03-01 at 9 45 41 pm](https://user-images.githubusercontent.com/45162150/53639030-71355a80-3c6b-11e9-967f-006063e2af12.png)\n",
    "\n",
    "(引用元:Peruzzo, A. et al. A variational eigenvalue solver on a photonic quantum processor. Nat. Commun. 5:4213 doi: 10.1038/ncomms5213 (2014)[1])\n",
    "\n",
    "このアルゴリズムは次の2段階に分かれている。 \n",
    "\n",
    "1.量子部分でランダムな量子状態$|\\psi(\\theta)\\rangle$を生成する。\n",
    "\n",
    "2.量子部分で$H$を計算する。  \n",
    "\n",
    "3.古典部分で$\\langle\\psi(\\theta)|H|\\psi(\\theta)\\rangle$が最小になるような$\\theta$を計算する。 \n",
    "\n",
    "$\\langle\\psi(\\theta)|H|\\psi(\\theta)\\rangle$が最小の値をとるまで1-2を繰り返すのが本アルゴリズムである。  \n",
    "\n",
    "以下では具体的なnumpyでの実装例で何をやっているか説明していく。 \n",
    "\n",
    "まずは量子ゲートを用意する。"
   ]
  },
  {
   "cell_type": "code",
   "execution_count": 23,
   "metadata": {},
   "outputs": [],
   "source": [
    "import numpy as np\n",
    "#パウリ演算子を準備する。\n",
    "pI = np.array([[1+0.0j,0+0.0j],[0+0.0j,1+0.0j]])\n",
    "pX = np.array([[0+0.0j,1+0.0j],[1+0.0j,0+0.0j]])\n",
    "pZ = np.array([[1+0.0j,0+0.0j],[0+0.0j,-1+0.0j]])\n",
    "pY = np.array([[0+0.0j,-1.0j],[0.0+1.0j,0.0+0.0j]])\n",
    "pHad = (pX+pZ)/np.sqrt(2)\n",
    "pP0 = (pI+pZ)/2\n",
    "pP1 = (pI-pZ)/2"
   ]
  },
  {
   "cell_type": "code",
   "execution_count": 4,
   "metadata": {},
   "outputs": [],
   "source": [
    "#パウリ演算子を1量子ゲートに変換する。\n",
    "def define_OneQubitGate(nqubits):    \n",
    "    global X,Y,Z,H,P0,P1,Ide\n",
    "    X=[1]*(nqubits)\n",
    "    Y=[1]*(nqubits)\n",
    "    Z=[1]*(nqubits)\n",
    "    H=[1]*(nqubits)\n",
    "    P0=[1]*(nqubits)\n",
    "    P1=[1]*(nqubits)\n",
    "\n",
    "    for i in range(nqubits):\n",
    "        for j in range(nqubits):\n",
    "            if(i != j):\n",
    "                X[i] = np.kron(pI,X[i])\n",
    "                Y[i] = np.kron(pI,Y[i])\n",
    "                Z[i] = np.kron(pI,Z[i])\n",
    "                H[i] = np.kron(pI,H[i])\n",
    "                P0[i] = np.kron(pI,P0[i])\n",
    "                P1[i] = np.kron(pI,P1[i])\n",
    "            else:\n",
    "                X[i] = np.kron(pX,X[i])\n",
    "                Y[i] = np.kron(pY,Y[i])\n",
    "                Z[i] = np.kron(pZ,Z[i])\n",
    "                H[i] = np.kron(pHad,H[i])\n",
    "                P0[i] = np.kron(pP0,P0[i])\n",
    "                P1[i] = np.kron(pP1,P1[i])\n",
    "    Ide = np.eye(2**nqubits)"
   ]
  },
  {
   "cell_type": "code",
   "execution_count": 5,
   "metadata": {},
   "outputs": [],
   "source": [
    "#2量子ゲートを準備する。\n",
    "def define_TwoQubitGate(nqubits):\n",
    "    global CZ,CX\n",
    "    CZ = [[0 for i in range(nqubits)] for j in range(nqubits)]\n",
    "    CX = [[0 for i in range(nqubits)] for j in range(nqubits)]\n",
    "\n",
    "    for i in range(nqubits):\n",
    "        for j in range(nqubits):\n",
    "            CZ[i][j]= (P0[i]+np.dot(P1[i],Z[j]))\n",
    "            CX[i][j]= (P0[i]+np.dot(P1[i],X[j]))"
   ]
  },
  {
   "cell_type": "code",
   "execution_count": 6,
   "metadata": {},
   "outputs": [],
   "source": [
    "#変分量子ゲート(X,Y,Zに関する回転の角度を指定できるゲート)を準備する。\n",
    "from scipy.linalg import expm\n",
    "def RX(target,angle):\n",
    "    return expm(-0.5*angle*1.j*X[target])\n",
    "def RY(target,angle):\n",
    "    return expm(-0.5*angle*1.j*Y[target])\n",
    "def RZ(target,angle):\n",
    "    return expm(-0.5*angle*1.j*Z[target])"
   ]
  },
  {
   "cell_type": "code",
   "execution_count": 7,
   "metadata": {},
   "outputs": [],
   "source": [
    "#初期状態|0000・・・0>を準備する。\n",
    "def StateZeros(nqubits):\n",
    "    State = np.zeros(2**nqubits)\n",
    "    State[0]=1\n",
    "    return State"
   ]
  },
  {
   "cell_type": "markdown",
   "metadata": {},
   "source": [
    "今回はH-He+(水素化ヘリウムイオン)の基底エネルギーを求める。今回使用する量子ビットは2個である。"
   ]
  },
  {
   "cell_type": "code",
   "execution_count": 8,
   "metadata": {},
   "outputs": [],
   "source": [
    "#2個用の量子ゲートを定義する。\n",
    "define_OneQubitGate(2)\n",
    "define_TwoQubitGate(2)"
   ]
  },
  {
   "cell_type": "markdown",
   "metadata": {},
   "source": [
    "今回の参考論文( https://www.nature.com/articles/ncomms5213 )のSupplimentary Information( https://media.nature.com/original/nature-assets/ncomms/2014/140723/ncomms5213/extref/ncomms5213-s1.pdf )\n",
    "より、エネルギーの算出過程の途中から理論値を求められるか検証する。"
   ]
  },
  {
   "cell_type": "code",
   "execution_count": 9,
   "metadata": {},
   "outputs": [],
   "source": [
    "M = (-3.8505 * Ide  - 0.2288 * X[1] - 1.0466 * Z[1] - 0.2288 * X[0] +  0.2613 * np.dot(X[0],X[1]) + \\\n",
    "     0.2288 *np.dot(X[0],Z[1]) - 1.0466*Z[0] + 0.2288* np.dot(Z[0],X[1]) +  0.2356 * np.dot(Z[0],Z[1]) )/2"
   ]
  },
  {
   "cell_type": "markdown",
   "metadata": {},
   "source": [
    "H-He+の最初のエネルギーの行列はこれである。"
   ]
  },
  {
   "cell_type": "code",
   "execution_count": 10,
   "metadata": {},
   "outputs": [
    {
     "name": "stdout",
     "output_type": "stream",
     "text": [
      "[[-2.85405+0.j  0.     +0.j  0.     +0.j  0.13065+0.j]\n",
      " [ 0.     +0.j -2.04305+0.j  0.13065+0.j -0.2288 +0.j]\n",
      " [ 0.     +0.j  0.13065+0.j -2.04305+0.j -0.2288 +0.j]\n",
      " [ 0.13065+0.j -0.2288 +0.j -0.2288 +0.j -0.76085+0.j]]\n"
     ]
    }
   ],
   "source": [
    "print(M)"
   ]
  },
  {
   "cell_type": "markdown",
   "metadata": {},
   "source": [
    "次に、2量子ビットの変分量子回路を参考論文をもとに実装した。"
   ]
  },
  {
   "cell_type": "code",
   "execution_count": 11,
   "metadata": {},
   "outputs": [],
   "source": [
    "def TwoQubitPQC(phi):\n",
    "    state = StateZeros(2)\n",
    "    state = np.dot(RX(0,phi[0]),state)\n",
    "    state = np.dot(RZ(0,phi[1]),state)\n",
    "    state = np.dot(RX(1,phi[2]),state)\n",
    "    state = np.dot(RZ(1,phi[3]),state)\n",
    "    state = np.dot(CX[1][0],state)\n",
    "    state = np.dot(RZ(1,phi[4]),state)\n",
    "    state = np.dot(RX(1,phi[5]),state)\n",
    "    return state"
   ]
  },
  {
   "cell_type": "markdown",
   "metadata": {},
   "source": [
    "変分量子回路を通った後の期待値を算出する関数を定義する。"
   ]
  },
  {
   "cell_type": "code",
   "execution_count": 12,
   "metadata": {},
   "outputs": [],
   "source": [
    "def ExpectVal(Operator,State):\n",
    "    BraState = np.conjugate(State.T) #列ベクトルを行ベクトルへ変換\n",
    "    tmp = np.dot(BraState,np.dot(Operator,State)) #行列を列ベクトルと行ベクトルではさむ\n",
    "    return np.real(tmp) #要素の実部を取り出す"
   ]
  },
  {
   "cell_type": "markdown",
   "metadata": {},
   "source": [
    "コスト関数$\\langle\\psi|M|\\psi\\rangle$の値を並べていく。"
   ]
  },
  {
   "cell_type": "code",
   "execution_count": 13,
   "metadata": {},
   "outputs": [],
   "source": [
    "cost_val = [] #後々のためにコスト関数の値を格納するリストを用意しておく\n",
    "\n",
    "def cost_func_HHe(phi):\n",
    "    global cost_val\n",
    "    tmp = ExpectVal(M,TwoQubitPQC(phi))\n",
    "    cost_val.append(tmp)\n",
    "    return tmp"
   ]
  },
  {
   "cell_type": "markdown",
   "metadata": {},
   "source": [
    "6回算出する。"
   ]
  },
  {
   "cell_type": "code",
   "execution_count": 14,
   "metadata": {},
   "outputs": [
    {
     "data": {
      "text/plain": [
       "-2.796559457519281"
      ]
     },
     "execution_count": 14,
     "metadata": {},
     "output_type": "execute_result"
    }
   ],
   "source": [
    "cost_func_HHe([np.random.rand() for i in range(6)])"
   ]
  },
  {
   "cell_type": "code",
   "execution_count": 22,
   "metadata": {},
   "outputs": [
    {
     "data": {
      "image/png": "[encoded data removed]",
      "text/plain": [
       "<Figure size 432x288 with 1 Axes>"
      ]
     },
     "metadata": {
      "needs_background": "light"
     },
     "output_type": "display_data"
    },
    {
     "name": "stdout",
     "output_type": "stream",
     "text": [
      "-2.8623984250625636\n"
     ]
    }
   ],
   "source": [
    "import scipy.optimize\n",
    "import matplotlib.pyplot as plt\n",
    "\n",
    "cost_val=[] # コスト関数の履歴\n",
    "opt = {\"maxiter\": 100} #100回繰り返す\n",
    "#Powell法という最適化法で　<ψ(Θ)|H|ψ(Θ)>を最小化する。\n",
    "res = scipy.optimize.minimize(cost_func_HHe,[np.random.rand() for i in range(6)],options=opt,method='Powell')\n",
    "plt.plot(cost_val)\n",
    "plt.show()\n",
    "print(res.fun)"
   ]
  },
  {
   "cell_type": "markdown",
   "metadata": {},
   "source": [
    "行列の固有値を求める「対角化」という方法を使って算出した値が正しいか検証してみる。"
   ]
  },
  {
   "cell_type": "code",
   "execution_count": 16,
   "metadata": {},
   "outputs": [
    {
     "name": "stdout",
     "output_type": "stream",
     "text": [
      "[-2.86262076+0.j -0.66884541+0.j -1.99583383+0.j -2.1737    +0.j]\n"
     ]
    }
   ],
   "source": [
    "import scipy.linalg\n",
    "l, P = scipy.linalg.eig( M )\n",
    "v = np.transpose(P)\n",
    "print(l) # 固有値\n",
    "#print(v) # 固有ベクトル"
   ]
  },
  {
   "cell_type": "markdown",
   "metadata": {},
   "source": [
    "Powell法で算出した固有値と一致はしていないものの、小数第3位まで同じであるので、殆ど正しいと言っていいだろう。　\n",
    "\n",
    "次にノイズが存在するケースでも検証してみよう。"
   ]
  },
  {
   "cell_type": "code",
   "execution_count": 17,
   "metadata": {},
   "outputs": [],
   "source": [
    "def cost_func_HHe_noise(phi):\n",
    "    global cost_val\n",
    "    tmp = ExpectVal(M,TwoQubitPQC(phi))+np.random.normal(0,0.01)\n",
    "    cost_val.append(tmp)\n",
    "    return tmp"
   ]
  },
  {
   "cell_type": "code",
   "execution_count": 21,
   "metadata": {},
   "outputs": [
    {
     "data": {
      "image/png": "[encoded data removed]",
      "text/plain": [
       "<Figure size 432x288 with 1 Axes>"
      ]
     },
     "metadata": {
      "needs_background": "light"
     },
     "output_type": "display_data"
    },
    {
     "name": "stdout",
     "output_type": "stream",
     "text": [
      "-2.856658530959696\n"
     ]
    }
   ],
   "source": [
    "cost_val=[] # コスト関数の履歴\n",
    "opt = {\"maxiter\": 100}\n",
    "res = scipy.optimize.minimize(cost_func_HHe_noise,[np.random.rand() for i in range(6)],options=opt,method='Powell')\n",
    "plt.plot(cost_val)\n",
    "plt.show()\n",
    "print(res.fun)"
   ]
  },
  {
   "cell_type": "markdown",
   "metadata": {},
   "source": [
    "ノイズが入っているものの、Powell法や対角化の算出値とかなり近い値が得られた。"
   ]
  },
  {
   "cell_type": "code",
   "execution_count": null,
   "metadata": {},
   "outputs": [],
   "source": [
    "参考文献 \n",
    "\n",
    "[1] Peruzzo, A. et al. A variational eigenvalue solver on a photonic quantum processor. Nat. Commun. 5:4213 doi: 10.1038/ncomms5213 (2014) "
   ]
  }
 ],
 "metadata": {
  "kernelspec": {
   "display_name": "Python 3",
   "language": "python",
   "name": "python3"
  },
  "language_info": {
   "codemirror_mode": {
    "name": "ipython",
    "version": 3
   },
   "file_extension": ".py",
   "mimetype": "text/x-python",
   "name": "python",
   "nbconvert_exporter": "python",
   "pygments_lexer": "ipython3",
   "version": "3.7.1"
  }
 },
 "nbformat": 4,
 "nbformat_minor": 2
}
