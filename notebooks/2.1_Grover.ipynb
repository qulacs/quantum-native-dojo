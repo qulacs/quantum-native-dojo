{
 "cells": [
  {
   "cell_type": "markdown",
   "metadata": {},
   "source": [
    "# グローバーのアルゴリズム\n",
    "\n",
    "グローバーのアルゴリズムとは、整列化されていないデータベースから特定のデータを探索するための量子アルゴリズムである。この章ではまずアルゴリズムの数学的なメカニズム、次に我々が開発している量子シミュレータであるQulacsによる実装例を提示する。\n",
    "\n",
    "アルゴリズムの大まかな手順は以下の通りである。\n",
    "\n",
    "## 1. 重ね合わせ状態を生成する。\n",
    "### 数学的原理\n",
    "このアルゴリズムは、全てのデータに番号をつけ、各データが観測される確率振幅が同じ状態(重ね合わせ状態)を生成する。具体的にはデータの数を$N$個とすると$$|\\psi\\rangle = \\frac{1}{N^{1/2}}\\sum_{x=0}^{N-1} |x\\rangle$$と表される。\n",
    "\n",
    "### 量子ゲート　\n",
    "この状態を生成するのに必要なのが、Hゲート(アダマールゲート)と呼ばれる量子ゲートである。\n",
    "\n",
    "$\n",
    " H = \\left(            \n",
    "    \\begin{array}{ll}   \n",
    "      1 & 1  \\\\\n",
    "      1 & -1  \\\\\n",
    "    \\end{array}\n",
    "  \\right) \n",
    "$\n",
    "  \n",
    "例えば、$H|0\\rangle = \\left( \\begin{array}{cc} 1 & 1\\\\ 1 & -1\\\\ \\end{array} \\right) \\left(\\begin{array}{c} 1 \\\\ 0 \\\\ \\end{array} \\right)  = \\left( \\begin{array}{c} 1\\\\ 1\\\\ \\end{array} \\right) = \\frac{|0\\rangle + |1\\rangle}{\\sqrt{2}}= \\frac{1}{2^{1/2}}\\sum_{x=0}^{1} |x\\rangle$ \n",
    "以上のように、１つの状態にHゲートをかけると$|0\\rangle$,$|1\\rangle$両方含む状態を生成することができる。\n",
    "\n",
    "例えば、データが4つ(2量子ビットで表現可能)の場合、重ね合わせ状態は以下の要領で表せる。\n",
    "\n",
    "$H^{\\otimes 2}|0\\rangle|0\\rangle = \\frac{|0\\rangle+|1\\rangle}{\\sqrt{2}} \\bullet \\frac{|0\\rangle+|1\\rangle}{\\sqrt{2}} = \\frac{|00\\rangle+|01\\rangle+|10\\rangle+|11\\rangle}{2} = \\frac{1}{4^{1/2}}\\sum_{x=0}^{3} |x\\rangle$\n",
    "\n",
    "## 2.探索したいデータの確率振幅を反転させる。 \n",
    "\n",
    "### 数学的原理\n",
    "一般的に量子アルゴリズムの過程において、答えを識別するブラックボックスの部分をオラクルと呼ぶ。[2]今回は重ね合わせ状態から特定の状態を取り出す時に必要な計算(実装の場合は量子回路)を指す。\n",
    "まず、求めたい状態を$|\\psi\\rangle$とし、以下の条件を満たす関数$f(x)$を考える。　$$f(x) = \\begin{eqnarray}\n",
    "\\left\\{\n",
    "\\begin{array}{l}\n",
    "1(x = |\\psi\\rangle)\\\\\n",
    "0(x \\neq |\\psi\\rangle)\n",
    "\\end{array}\n",
    "\\right.\n",
    "\\end{eqnarray}$$\n",
    "\n",
    "実装するオラクル$U$は以下の機能を持つものとする。$|x\\rangle\\xrightarrow{U}(-1)^{f(x)}|x\\rangle$　　\n",
    "\n",
    "そして、このオラクルは $ U =  I - 2|\\psi\\rangle\\langle\\psi| $で表される。 [3]\n",
    "\n",
    "$U|\\psi\\rangle = I|\\psi\\rangle - 2|\\psi\\rangle\\langle\\psi||\\psi\\rangle = I|\\psi\\rangle - 2|\\psi\\rangle = -|\\psi\\rangle $ \n",
    "\n",
    "$U|\\phi\\rangle = I|\\phi\\rangle - 2|\\psi\\rangle\\langle\\psi||\\phi\\rangle = I|\\phi\\rangle = |\\phi\\rangle $\n",
    "\n",
    "$(|\\phi\\rangleは求めたくない状態)$\n",
    "\n",
    "これを視覚的に表現すると以下のようになる。(軸の説明は後述する) \n",
    "![screen shot 2019-02-27 at 2 57 26 pm](https://user-images.githubusercontent.com/45162150/53469100-0ab01100-3aa0-11e9-866c-6581110853fc.png)\n",
    "\n",
    "\n",
    "\n",
    "\n",
    "\n",
    "\n",
    "## 3. 拡散変換を施す\n",
    "### 数学的原理 \n",
    "データベース内のデータ数を$M$、求めるデータ数を$N$とし、求めるべきではないものが求まる確率の和を$|\\alpha\\rangle$、求まるべきものが求まる確率の和を$|\\beta\\rangle$とする。これらは以下のように表される。[5]　　\n",
    "\n",
    "$$|\\alpha\\rangle = \\frac{1}{\\sqrt{N-M}}\\sum_{x}^{} |x\\rangle$$\n",
    "$$|\\beta\\rangle = \\frac{1}{\\sqrt{M}}\\sum_{x}^{} |x'\\rangle$$  \n",
    "\n",
    "これらより、量子状態$|\\psi\\rangle$は$|\\psi\\rangle = \\frac{N-M}{N}|\\alpha\\rangle + \\frac{M}{N}|\\beta\\rangle$と表せる。\n",
    "$\\cos{\\frac{\\theta}{2}} = \\frac{N-M}{N}$を満たす角$\\theta$について　\n",
    "\n",
    "演算子$ G = \\left[\\begin{array}{rr}\\cos\\theta&\\sin\\theta \\\\　\\sin\\theta & \\cos\\theta \\end{array}\\right]$を考えると、　$G|\\psi\\rangle = \\cos{\\frac{3\\theta}{2}}|\\alpha\\rangle + \\sin{\\frac{3\\theta}{2}}|\\beta\\rangle$となる。　\n",
    "\n",
    "演算子Gを任意の回数(k回とする)掛けていくと、$G^{k}|\\psi\\rangle = \\cos{\\frac{k\\theta}{2}}|\\alpha\\rangle + \\sin{\\frac{k\\theta}{2}}|\\beta\\rangle$となる。これを視覚的に表現したのが以下の図である。　元の状態(紫色の矢印)がG演算子を何回もかけられたことによって、新たな状態(水色の矢印)になって$|\\beta\\rangle$軸に近づいていく。つまり、求められるべきものが求まる確率が増加していく。\n",
    "\n",
    "![screen shot 2019-02-27 at 3 35 48 pm](https://user-images.githubusercontent.com/45162150/53470575-67fa9100-3aa5-11e9-9bc3-6407fe2f22a4.png)\n",
    "\n",
    "ちなみに、Gを求めて確率が上昇する回数は、$\\frac{\\pi\\sqrt{N}}{4}$回である。(Nは量子ビットの数)[5]\n",
    "\n",
    "### 量子ゲート\n",
    "負の値も含めた各状態の確率振幅の平均値を$average$とおくと、$average$から各確率振幅を引き、その差を$average$に足す。この演算を拡散変換という。\n",
    "2量子ビットで|11>を反転させた場合を例として考える。 \n",
    "\n",
    "この時、 $average = (\\frac{1}{2}+\\frac{1}{2}+\\frac{1}{2}-\\frac{1}{2})*\\frac{1}{4} = \\frac{1}{4}$\n",
    "\n",
    "ここで、拡散変換を行うと、各状態を得る確率は以下のようになる。\n",
    "\n",
    "$P(|00\\rangle) = average - \\frac{1}{2} + average = \\frac{1}{4} - \\frac{1}{2} + \\frac{1}{4} = 0$\n",
    "\n",
    "$P(|01\\rangle) = average - \\frac{1}{2} + average = \\frac{1}{4} - \\frac{1}{2} + \\frac{1}{4} = 0$\n",
    "\n",
    "$P(|10\\rangle) = average - \\frac{1}{2} + average = \\frac{1}{4} - \\frac{1}{2} + \\frac{1}{4} = 0$\n",
    "\n",
    "$P(|11\\rangle) = average - (-\\frac{1}{2}) + average = \\frac{1}{4} + \\frac{1}{2} + \\frac{1}{4} = 1$\n",
    "\n",
    "よって、求めたい状態$|11\\rangle$を得る確率は 100%になった。"
   ]
  },
  {
   "cell_type": "markdown",
   "metadata": {},
   "source": [
    "# Qulacsを用いた実装\n",
    "\n",
    "次に我々が開発している量子シミュレータQulacsを用いた実装例を紹介する。と3量子ビット(|111>)での探索である。なお、Qulacsの詳しい文法に関してはdocumentation ( http://qulacs.org/index.html ) を参照して頂きたい。"
   ]
  },
  {
   "cell_type": "markdown",
   "metadata": {},
   "source": [
    "\n",
    "### 量子ゲート\n",
    "1.の後に求めたい状態に応じて以下のオラクルを実装すると、状態の位相を反転させられる。[4]\n",
    "\n",
    "ちなみに、![screen shot 2019-02-07 at 3 05 25 pm](https://user-images.githubusercontent.com/45162150/52393534-ce654280-2ae9-11e9-9334-601c84af6df1.png)\n",
    "はCZゲート、\n",
    "![screen shot 2019-02-07 at 3 06 41 pm](https://user-images.githubusercontent.com/45162150/52393570-fbb1f080-2ae9-11e9-978a-194b3949c7f8.png)\n",
    "はCCXゲートと呼ばれる量子ゲートである。なお、3量子ビット上の実装に必要なCCZゲートはCCXゲートの1番下のビットをHゲートで挟むことで実装できるが、実装例では他の方法(CZゲートにコントロールビットを１つ追加する)で実装している。\n",
    "\n",
    "### 2量子ビット\n",
    "今回まずは2量子ビット(|11>)の例をお見せするが、他の例をご自身で試してみるとより理解が深まると考えられる。　\n",
    "\n",
    "$ |00\\rangle $　\n",
    "![screen shot 2019-02-07 at 2 38 37 pm](https://user-images.githubusercontent.com/45162150/52392703-62350f80-2ae6-11e9-9170-e7c695760bff.png)\n",
    "$ |01\\rangle $\n",
    "![screen shot 2019-02-07 at 2 42 15 pm](https://user-images.githubusercontent.com/45162150/52392753-990b2580-2ae6-11e9-8891-0bb41cb0af48.png)\n",
    "$ |10\\rangle $\n",
    "![screen shot 2019-02-07 at 2 43 09 pm](https://user-images.githubusercontent.com/45162150/52392776-b7712100-2ae6-11e9-9244-ed96c71647ba.png)\n",
    "$ |11\\rangle $ \n",
    "![screen shot 2019-02-07 at 2 44 13 pm](https://user-images.githubusercontent.com/45162150/52392813-dd96c100-2ae6-11e9-8203-e10cd83c1104.png)\n",
    " \n",
    " \n"
   ]
  },
  {
   "cell_type": "code",
   "execution_count": 66,
   "metadata": {},
   "outputs": [
    {
     "name": "stdout",
     "output_type": "stream",
     "text": [
      "[0.5+0.j 0.5+0.j 0.5+0.j 0.5+0.j]\n"
     ]
    }
   ],
   "source": [
    "#必要なモジュールのインポート\n",
    "from qulacs import QuantumState,QuantumCircuit\n",
    "\n",
    "#必要な量子ビットの数\n",
    "n = 2\n",
    "\n",
    "#2量子ビットの状態を定義する\n",
    "state2 = QuantumState(n)\n",
    "\n",
    "#量子状態を初期化する\n",
    "state2.set_zero_state()\n",
    "\n",
    "#2量子ビットの量子回路を生成\n",
    "circuit = QuantumCircuit(n)\n",
    "\n",
    "#各量子ビットにHゲートをかけて重ね合わせ状態を生成する\n",
    "for i in range(n):\n",
    "    circuit.add_H_gate(i)\n",
    "\n",
    "#これらのゲートを回路および状態に適用する。\n",
    "circuit.update_quantum_state(state2)\n",
    "\n",
    "#状態ベクトル(確率振幅)の取得\n",
    "print(state2.get_vector())"
   ]
  },
  {
   "cell_type": "markdown",
   "metadata": {},
   "source": [
    "これらのベクトルは$|00\\rangle$,$\\,|01\\rangle$,$\\,|10\\rangle$,$\\,|11\\rangle$の順に並んでいる。\n",
    "ここで、各状態の確率振幅が等しいことが確認できた。次に取得したい状態($|11\\rangle$)の確率振幅の位相を反転させる。"
   ]
  },
  {
   "cell_type": "code",
   "execution_count": 22,
   "metadata": {},
   "outputs": [
    {
     "name": "stdout",
     "output_type": "stream",
     "text": [
      "[ 0.5+0.j  0.5+0.j  0.5+0.j -0.5-0.j]\n"
     ]
    }
   ],
   "source": [
    "n = 2\n",
    "state2 = QuantumState(n)\n",
    "state2.set_zero_state()\n",
    "\n",
    "circuit = QuantumCircuit(n)\n",
    "\n",
    "for i in range(n):\n",
    "    circuit.add_H_gate(i)\n",
    "\n",
    "#ここからnew\n",
    "#CZゲート(1番目のビットの値が1の時、2番目の量子ビットにZゲートをかける2量子ゲート)をかける\n",
    "circuit.add_gate(CZ(0,1))\n",
    "\n",
    "\n",
    "circuit.update_quantum_state(state2)\n",
    "\n",
    "print(state2.get_vector())"
   ]
  },
  {
   "cell_type": "markdown",
   "metadata": {},
   "source": [
    "ここで|11>の確率振幅の位相のみ反転していることが確認できた。\n",
    "最後に拡散変換を施す。"
   ]
  },
  {
   "cell_type": "code",
   "execution_count": 33,
   "metadata": {},
   "outputs": [
    {
     "name": "stdout",
     "output_type": "stream",
     "text": [
      "[ 0.+0.j  0.+0.j  0.+0.j -1.+0.j]\n"
     ]
    }
   ],
   "source": [
    "n = 2\n",
    "state2 = QuantumState(n)\n",
    "state2.set_zero_state()\n",
    "\n",
    "circuit = QuantumCircuit(n)\n",
    "\n",
    "for i in range(n):\n",
    "    circuit.add_H_gate(i)\n",
    "    \n",
    "circuit.add_gate(CZ(0,1))\n",
    "\n",
    "#ここからnew\n",
    "#拡散変換\n",
    "for i in range(n):\n",
    "    circuit.add_H_gate(i)\n",
    "    circuit.add_X_gate(i)\n",
    "\n",
    "circuit.add_gate(CZ(0,1))\n",
    "\n",
    "for i in range(n):\n",
    "    circuit.add_X_gate(i)\n",
    "    circuit.add_H_gate(i)\n",
    "    \n",
    "circuit.update_quantum_state(state2)\n",
    "\n",
    "print(state2.get_vector())"
   ]
  },
  {
   "cell_type": "markdown",
   "metadata": {},
   "source": [
    "これより、$|11\\rangle$の確率振幅の絶対値が1(得られる確率が100%)になったので、測定した時に確実に$|11\\rangle$が得られる。"
   ]
  },
  {
   "cell_type": "markdown",
   "metadata": {},
   "source": [
    "### 3量子ビット\n",
    "\n",
    "今回は$|111\\rangle$の例を掲載するが、以下の回路を実装すれば好きな状態を求められる。　\n",
    "\n",
    "$ |000\\rangle$\n",
    "![screen shot 2019-02-07 at 2 55 09 pm](https://user-images.githubusercontent.com/45162150/52393188-66fac300-2ae8-11e9-84ab-cf15ea4a95d9.png)\n",
    "\n",
    "$ |001\\rangle$\n",
    "![screen shot 2019-02-07 at 2 56 57 pm](https://user-images.githubusercontent.com/45162150/52393253-a88b6e00-2ae8-11e9-8be1-728317a884c1.png)\n",
    "\n",
    "$ |010\\rangle$\n",
    "![screen shot 2019-02-07 at 2 58 23 pm](https://user-images.githubusercontent.com/45162150/52393298-d83a7600-2ae8-11e9-9c15-16675984831f.png)\n",
    "\n",
    "$ |011\\rangle$\n",
    "![screen shot 2019-02-07 at 2 59 17 pm](https://user-images.githubusercontent.com/45162150/52393339-f7d19e80-2ae8-11e9-898b-10834c0a03d1.png)\n",
    "\n",
    "$ |100\\rangle$\n",
    "![screen shot 2019-02-07 at 3 00 35 pm](https://user-images.githubusercontent.com/45162150/52393383-22235c00-2ae9-11e9-8d4e-da83903b79e5.png)\n",
    "\n",
    "$ |101\\rangle$\n",
    "![screen shot 2019-02-07 at 3 01 40 pm](https://user-images.githubusercontent.com/45162150/52393419-4aab5600-2ae9-11e9-84a0-c5e028395ac8.png)\n",
    "\n",
    "$ |110\\rangle$\n",
    "![screen shot 2019-02-07 at 3 02 22 pm](https://user-images.githubusercontent.com/45162150/52393442-6151ad00-2ae9-11e9-85cf-833667d2c3e0.png)\n",
    "\n",
    "$ |111\\rangle$\n",
    "![screen shot 2019-02-07 at 3 02 55 pm](https://user-images.githubusercontent.com/45162150/52393459-79c1c780-2ae9-11e9-8dc0-b845e6f99e7e.png)　"
   ]
  },
  {
   "cell_type": "code",
   "execution_count": 64,
   "metadata": {},
   "outputs": [
    {
     "name": "stdout",
     "output_type": "stream",
     "text": [
      "[-0.1767767 +0.j -0.1767767 +0.j -0.1767767 +0.j -0.1767767 +0.j\n",
      " -0.1767767 +0.j -0.1767767 +0.j -0.1767767 +0.j -0.88388348+0.j]\n"
     ]
    }
   ],
   "source": [
    "#必要なモジュールのインポート\n",
    "from qulacs import QuantumState,QuantumCircuit\n",
    "from qulacs.gate import CZ,to_matrix_gate\n",
    "\n",
    "#QulacsにはCCZゲートはないので自分で定義する。\n",
    "def CCZ(q1,q2,q3):\n",
    "    cz_gate = CZ(q2,q3)\n",
    "    #CZゲートは特殊な高速化が施されているので、これを除いて他の処理を加えられるようにする。今回はコントロールビットを１つ加える。\n",
    "    cz_mat_gate = to_matrix_gate(cz_gate)\n",
    "    # 1st-qubitが1の場合だけゲートを作用させる\n",
    "    control_index1 = q1\n",
    "    control_with_value1 = 1\n",
    "    #cz_mat_gateにコントロールビット(q1)を加える。\n",
    "    cz_mat_gate.add_control_qubit(control_index1, control_with_value1)\n",
    "    #新しいcz_mat_gateを出力する。\n",
    "    return(cz_mat_gate)\n",
    "\n",
    "#必要な量子ビット数\n",
    "m = 3\n",
    "\n",
    "#3量子ビットの量子状態を定義\n",
    "state3 = QuantumState(m)\n",
    "\n",
    "#状態を初期化する\n",
    "state3.set_zero_state()\n",
    "\n",
    "#3量子ビットの量子回路を構築する\n",
    "circuit = QuantumCircuit(m)\n",
    "\n",
    "#重ね合わせ状態を生成する\n",
    "for i in range(m):\n",
    "    circuit.add_H_gate(i)\n",
    "\n",
    "#|111>の確率振幅を反転させる\n",
    "circuit.add_gate(CCZ(0,1,2))\n",
    "\n",
    "#拡散変換を施す。\n",
    "for i in range(m):\n",
    "    circuit.add_H_gate(i)\n",
    "    circuit.add_X_gate(i)\n",
    "    \n",
    "circuit.add_gate(CCZ(0,1,2))\n",
    "\n",
    "for i in range(m):\n",
    "    circuit.add_X_gate(i)\n",
    "    circuit.add_H_gate(i)\n",
    "\n",
    "#これらの変更を回路及び状態に反映させる\n",
    "circuit.update_quantum_state(state3)\n",
    "\n",
    "#状態ベクトル(確率振幅)を出力する\n",
    "print(state3.get_vector())    "
   ]
  },
  {
   "cell_type": "markdown",
   "metadata": {},
   "source": [
    "よって$|111\\rangle$の確率振幅の絶対値は約0.88(得られる確率が約78%)になるので、$|111\\rangle$が得られる確率が1番高くなる。"
   ]
  },
  {
   "cell_type": "markdown",
   "metadata": {},
   "source": [
    "参考文献\n",
    "[1] M. A. Nielsen and I. L. Chuang, \"Quantum Computation and Quantum Information 10th Anniversary Edition\", University Printing House, 2018, 250p\n",
    "\n",
    "[2] M. A. Nielsen and I. L. Chuang, \"Quantum Computation and Quantum Information 10th Anniversary Edition\", University Printing House, 2018, 248p\n",
    "\n",
    "[3] E. Borbely,\"Grover searching algorithm -arXiv\",https://arxiv.org/pdf/0705.4171.pdf (参照 2019-02-27)\n",
    "\n",
    "[4] 中山茂　「Python 量子プログラミング入門」Gaia教育シリーズ8 2018年　101-102p\n",
    "\n",
    "[5] 「グローバーのアルゴリズム -Wikipedia」、https://ja.wikipedia.org/wiki/グローバーのアルゴリズム (参照 2019-02-27)"
   ]
  },
  {
   "cell_type": "code",
   "execution_count": null,
   "metadata": {},
   "outputs": [],
   "source": []
  }
 ],
 "metadata": {
  "kernelspec": {
   "display_name": "Python 3",
   "language": "python",
   "name": "python3"
  },
  "language_info": {
   "codemirror_mode": {
    "name": "ipython",
    "version": 3
   },
   "file_extension": ".py",
   "mimetype": "text/x-python",
   "name": "python",
   "nbconvert_exporter": "python",
   "pygments_lexer": "ipython3",
   "version": "3.7.1"
  }
 },
 "nbformat": 4,
 "nbformat_minor": 2
}
