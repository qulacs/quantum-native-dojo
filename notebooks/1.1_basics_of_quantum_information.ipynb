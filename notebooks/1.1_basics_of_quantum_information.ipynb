{
 "cells": [
  {
   "cell_type": "markdown",
   "metadata": {
    "colab_type": "text",
    "id": "A46fkXZnkD6Z"
   },
   "source": [
    "# 第1章 量子情報の基礎"
   ]
  },
  {
   "cell_type": "markdown",
   "metadata": {
    "colab_type": "text",
    "id": "6V3Xc35dj9sC"
   },
   "source": [
    "# 量子コンピュータについて\n",
    "\n",
    "量子コンピュータは長らくタイムマシンと同じくらい実現が不可能な技術だと思われていました。  \n",
    "1999年に当時NECにいた中村泰信（現東京大学教授）、蔡兆申（現東京理科大学教授）らによって初めての超電導量子ビットが実現されて以来、量子性を保つ時間であるコヒーレンス時間が数々のブレイクスルーによって伸びて、現在GoogleやIBMを始めとして、量子コンピュータの実現に向けた研究が盛んになっています。\n",
    "\n",
    "### 量子コンピュータというアイディア\n",
    "Feynmanの提唱の話\n",
    "\n",
    "### 誤り訂正について\n",
    "誤り訂正という問題を抱えてて実現は不可能だと思われていたが、\n",
    "それが可能になった話\n",
    "\n",
    "### アルゴリズムについて\n",
    "アイディアは面白かったけど、具体的にどう役に立つの？という中\n",
    "Shorの素因数分解が提唱された話。PEAやHHLも入れても良い。\n",
    "\n",
    "量子コンピュータのアイディアが提唱されて初めてのアルゴリズムが考案されてからまだxx年しか経っていません。\n",
    "今提案されているアルゴリズムだけで量子コンピュータは十分役に立つと分かっていますが、この新しい原理（この書き方はQuantum Native的ではないですね）で動くコンピュータを活用した、新しいアルゴリズムやアプリケーションを作るチャンスは広がっています。\n",
    "\n",
    "\n",
    "### この数年の量子コンピュータについて\n",
    "NISQの説明とNISQアルゴリズムについて\n",
    "\n"
   ]
  },
  {
   "cell_type": "markdown",
   "metadata": {
    "colab_type": "text",
    "id": "va9-CH5yj8be"
   },
   "source": [
    "## 量子情報の基礎\n",
    "\n",
    "ここでは、量子コンピュータの仕組みを完全に理解するために必要な量子力学をマスターし、量子コンピュータを用いてどのように行列要素の計算や固有値の推定ができるかをみていくことにする。特に、〜〜〜章では深入りしなかった、テンソル積という考え方が、量子コンピュータを深く理解するうえで必須である。テンソル積の計算は少し複雑であるが、pythonの数式処理ライブラリSymPyでは、量子力学の代数処理がサポートされている。SymPyを用いながら量子力学の理解をすすめながら、量子コンピュータにとってもっとも重要なアルゴリズムである位相推定アルゴリズムを紹介する。"
   ]
  },
  {
   "cell_type": "markdown",
   "metadata": {
    "colab_type": "text",
    "id": "cArDQYeJjDi5"
   },
   "source": [
    "### 量子ビット\n",
    "古典コンピュータ内部では情報は 0 と 1 の２つの状態で表現されている。例えば、スイッチのオン・オフの状態や、電荷がたまった状態とそうでない状態、電圧の高・低などでその２状態を表現している。一方、量子力学では異なる２つの状態の**重ね合わせ状態**というのが許されているので、量子の世界の情報の最小単位である\"量子\"ビットは $\\alpha$と$\\beta$という二つの複素数を用いた複素ベクトルを用いて\n",
    "$$\n",
    "\\left(\n",
    "\\begin{array}{c}\n",
    "\\alpha \n",
    "\\\\\n",
    "\\beta \n",
    "\\end{array}\n",
    "\\right)\n",
    "$$\n",
    "量子状態が記述される。"
   ]
  },
  {
   "cell_type": "markdown",
   "metadata": {
    "colab_type": "text",
    "id": "rhuRq2WujDi5"
   },
   "source": [
    "$\\alpha$や$\\beta$はどの程度の重みで0状態と1状態が重ね合わさっている、ということを表しており**複素確率振幅**と呼ばれる。\n",
    "$\\alpha$や$\\beta$が複素数になっているのは、量子の世界では0や1といった離散的な量も波の性質をみたし干渉するためである。\n",
    "\n",
    "古典ビットの0に対応する状態は\n",
    "$$\n",
    "\\left(\n",
    "\\begin{array}{c}\n",
    "1 \n",
    "\\\\\n",
    "0\n",
    "\\end{array}\n",
    "\\right)\n",
    "$$\n",
    "1に対応する状態は\n",
    "$$\n",
    "\\left(\n",
    "\\begin{array}{c}\n",
    "0 \n",
    "\\\\\n",
    "1\n",
    "\\end{array}\n",
    "\\right)\n",
    "$$\n",
    "となる。"
   ]
  },
  {
   "cell_type": "markdown",
   "metadata": {
    "colab_type": "text",
    "id": "jyz8NYXVjDi6"
   },
   "source": [
    "列ベクトルを毎回書いているとスペースが無駄なので**ディラックのブラケット表記**という簡略化した表記を導入する。これは列ベクトルである、という量子状態の型宣言のようなもので、この記号がついていると量子状態をあらわす複素ベクトルであることが一目でわかるようになっている。\n",
    "\n",
    "$$\n",
    "|0\\rangle = \\left(\n",
    "\\begin{array}{c}\n",
    "1 \n",
    "\\\\\n",
    "0\n",
    "\\end{array}\n",
    "\\right)\n",
    "$$\n",
    "$$\n",
    "|1\\rangle = \\left(\n",
    "\\begin{array}{c}\n",
    "0\n",
    "\\\\\n",
    "1\n",
    "\\end{array}\n",
    "\\right)\n",
    "$$\n",
    "この表記を用いると量子ビットは\n",
    "$$\n",
    "|\\psi \\rangle = \\alpha |0\\rangle + \\beta |1\\rangle \n",
    "$$\n",
    "と書かれる（スペースが省略できた！）。"
   ]
  },
  {
   "cell_type": "markdown",
   "metadata": {
    "colab_type": "text",
    "id": "qdjvhYqrjDi7"
   },
   "source": [
    "### 複素確率振幅の意味"
   ]
  },
  {
   "cell_type": "markdown",
   "metadata": {
    "colab_type": "text",
    "id": "beNKd2n8jDi9"
   },
   "source": [
    "複素確率振幅はいったいどのような物理的実体に対応するだろうか。実は、量子力学では観測者（人間）は直接複素確率振幅にはアクセスすることができず、**測定という操作をした時に初めて0か1かが確率的にきまる** 0もしくは1になる確率に影響するのが複素確率振幅である：\n",
    "$$ \n",
    "p_0 = |\\alpha |^2 \n",
    "\\\\\n",
    "p_1 = |\\beta |^2\n",
    "$$\n",
    "で表される。確率が1になるために、規格化条件 $|\\alpha |^2 + |\\beta |^2 =1$を課す。\n",
    "\n",
    "\n",
    "つまり、量子状態とは、大きさが１に規格化された複素ベクトルによって記述され、各成分の絶対値の２乗が測定をしたときにその成分に対応する状態を得る確率に対応している。なので、\n",
    "$$\n",
    "|0\\rangle = \\left(\n",
    "\\begin{array}{c}\n",
    "1 \n",
    "\\\\\n",
    "0\n",
    "\\end{array}\n",
    "\\right), |1\\rangle = \\left(\n",
    "\\begin{array}{c}\n",
    "0\n",
    "\\\\\n",
    "1\n",
    "\\end{array}\n",
    "\\right)\n",
    "$$\n",
    "は、確実に0や1が得られる古典的な状態に対応し、\n",
    "$$\n",
    "\\frac{1}{\\sqrt{2}}\n",
    "(|0\\rangle + |1\\rangle) = \\left(\n",
    "\\begin{array}{c}\n",
    "\\frac{1}{\\sqrt{2}}\n",
    "\\\\\n",
    "\\frac{1}{\\sqrt{2}}\n",
    "\\end{array}\n",
    "\\right)\n",
    "$$\n",
    "は0と1が同じおもみで重ね合わさった状態であり、測定をすると0と1が確率1/2で完全にランダムに得られる。\n",
    "\n",
    "　複素数も用いてよいので、\n",
    "$$\n",
    "\\frac{1}{\\sqrt{2}}(|0\\rangle + i|1\\rangle ) \n",
    "= \n",
    "\\left( \n",
    "\\begin{array}{c}\n",
    "\\frac{1}{\\sqrt{2}}\n",
    "\\\\\n",
    "\\frac{i}{\\sqrt{2}}\n",
    "\\end{array}\n",
    "\\right)\n",
    "$$\n",
    "といった状態も許されている。\n",
    "\n",
    "一般に\n",
    "$$\n",
    "\\frac{1}{\\sqrt{2}} ( |0\\rangle + e^{ i \\phi } |1\\rangle )\n",
    "$$\n",
    "なども許されている。"
   ]
  },
  {
   "cell_type": "markdown",
   "metadata": {
    "colab_type": "text",
    "id": "Oi3PkG3KjDi9"
   },
   "source": [
    "### SymPyを用いて量子ビットを表示してみる\n",
    "SymPyでは、量子状態の型が用意されている。初期化された量子ビットを準備する場合は ` Qubit() ` 関数を用いて\n"
   ]
  },
  {
   "cell_type": "code",
   "execution_count": 1,
   "metadata": {
    "colab": {},
    "colab_type": "code",
    "id": "U-NFd2sGjDi-"
   },
   "outputs": [],
   "source": [
    "from IPython.display import HTML, Image, display, display_png\n",
    "from sympy import *\n",
    "from sympy.physics.quantum import *\n",
    "from sympy.physics.quantum.qubit import Qubit,QubitBra\n",
    "\n",
    "init_printing() # ベクトルや行列を綺麗に表示するため\n",
    "def setup_mathjax():\n",
    "    display(HTML('''\n",
    "    <script>\n",
    "        if (!window.MathJax) {\n",
    "            var script = document.createElement(\"script\");\n",
    "            script.async = \"async\";\n",
    "            script.src = \"https://colab.research.google.com/static/mathjax/MathJax.js?config=TeX-AMS_HTML-full,Safe\";\n",
    "            document.head.appendChild(script);\n",
    "        }\n",
    "    </script>\n",
    "    '''))\n",
    "get_ipython().events.register('pre_run_cell', setup_mathjax)\n",
    "\n",
    "psi = Qubit('0')"
   ]
  },
  {
   "cell_type": "code",
   "execution_count": 2,
   "metadata": {
    "colab": {},
    "colab_type": "code",
    "id": "23yD1G8LjDjB",
    "outputId": "10f115e7-14df-4157-ef75-bde1a60fcb57"
   },
   "outputs": [
    {
     "data": {
      "text/html": [
       "\n",
       "    <script>\n",
       "        if (!window.MathJax) {\n",
       "            var script = document.createElement(\"script\");\n",
       "            script.async = \"async\";\n",
       "            script.src = \"https://colab.research.google.com/static/mathjax/MathJax.js?config=TeX-AMS_HTML-full,Safe\";\n",
       "            document.head.appendChild(script);\n",
       "        }\n",
       "    </script>\n",
       "    "
      ],
      "text/plain": [
       "<IPython.core.display.HTML object>"
      ]
     },
     "metadata": {},
     "output_type": "display_data"
    },
    {
     "data": {
      "image/png": "[encoded data removed]",
      "text/latex": [
       "$${\\left|0\\right\\rangle }$$"
      ],
      "text/plain": [
       "❘0⟩"
      ]
     },
     "execution_count": 2,
     "metadata": {},
     "output_type": "execute_result"
    }
   ],
   "source": [
    "psi #ブラケット表示"
   ]
  },
  {
   "cell_type": "code",
   "execution_count": 3,
   "metadata": {
    "colab": {},
    "colab_type": "code",
    "id": "mBiG7DB7jDjE",
    "outputId": "edfa2ecb-75fc-427d-9b30-9f93bddd8d1a"
   },
   "outputs": [
    {
     "data": {
      "text/html": [
       "\n",
       "    <script>\n",
       "        if (!window.MathJax) {\n",
       "            var script = document.createElement(\"script\");\n",
       "            script.async = \"async\";\n",
       "            script.src = \"https://colab.research.google.com/static/mathjax/MathJax.js?config=TeX-AMS_HTML-full,Safe\";\n",
       "            document.head.appendChild(script);\n",
       "        }\n",
       "    </script>\n",
       "    "
      ],
      "text/plain": [
       "<IPython.core.display.HTML object>"
      ]
     },
     "metadata": {},
     "output_type": "display_data"
    },
    {
     "data": {
      "image/png": "[encoded data removed]",
      "text/latex": [
       "$$\\left[\\begin{matrix}1\\\\0\\end{matrix}\\right]$$"
      ],
      "text/plain": [
       "⎡1⎤\n",
       "⎢ ⎥\n",
       "⎣0⎦"
      ]
     },
     "execution_count": 3,
     "metadata": {},
     "output_type": "execute_result"
    }
   ],
   "source": [
    "represent(psi) #列ベクトル表示"
   ]
  },
  {
   "cell_type": "markdown",
   "metadata": {
    "colab_type": "text",
    "id": "5WFFlU7PjDjI"
   },
   "source": [
    "SymPyでは文字をシンボルとして扱うことができるので、一般的な量子ビットも、"
   ]
  },
  {
   "cell_type": "code",
   "execution_count": 4,
   "metadata": {
    "colab": {},
    "colab_type": "code",
    "id": "rFqkqRPgjDjI",
    "outputId": "a68c9e22-ab40-49c6-98c4-b03d84a28e92"
   },
   "outputs": [
    {
     "data": {
      "text/html": [
       "\n",
       "    <script>\n",
       "        if (!window.MathJax) {\n",
       "            var script = document.createElement(\"script\");\n",
       "            script.async = \"async\";\n",
       "            script.src = \"https://colab.research.google.com/static/mathjax/MathJax.js?config=TeX-AMS_HTML-full,Safe\";\n",
       "            document.head.appendChild(script);\n",
       "        }\n",
       "    </script>\n",
       "    "
      ],
      "text/plain": [
       "<IPython.core.display.HTML object>"
      ]
     },
     "metadata": {},
     "output_type": "display_data"
    },
    {
     "data": {
      "image/png": "[encoded data removed]",
      "text/latex": [
       "$$\\alpha {\\left|0\\right\\rangle } + \\beta {\\left|1\\right\\rangle }$$"
      ],
      "text/plain": [
       "α⋅❘0⟩ + β⋅❘1⟩"
      ]
     },
     "execution_count": 4,
     "metadata": {},
     "output_type": "execute_result"
    }
   ],
   "source": [
    "a, b = symbols('alpha, beta')  #a, bをシンボルとして、alpha, betaとして表示\n",
    "ket0 = Qubit('0')\n",
    "ket1 = Qubit('1')\n",
    "psi = a * ket0 + b* ket1\n",
    "psi # 状態をそのまま書くとケットで表示してくれる"
   ]
  },
  {
   "cell_type": "markdown",
   "metadata": {
    "colab_type": "text",
    "id": "AcRShux6jDjL"
   },
   "source": [
    "行列表示は、"
   ]
  },
  {
   "cell_type": "code",
   "execution_count": 5,
   "metadata": {
    "colab": {},
    "colab_type": "code",
    "id": "dITE71DOjDjM",
    "outputId": "dc31b38a-0c7c-4c74-d700-273442527fb5"
   },
   "outputs": [
    {
     "data": {
      "text/html": [
       "\n",
       "    <script>\n",
       "        if (!window.MathJax) {\n",
       "            var script = document.createElement(\"script\");\n",
       "            script.async = \"async\";\n",
       "            script.src = \"https://colab.research.google.com/static/mathjax/MathJax.js?config=TeX-AMS_HTML-full,Safe\";\n",
       "            document.head.appendChild(script);\n",
       "        }\n",
       "    </script>\n",
       "    "
      ],
      "text/plain": [
       "<IPython.core.display.HTML object>"
      ]
     },
     "metadata": {},
     "output_type": "display_data"
    },
    {
     "data": {
      "image/png": "[encoded data removed]",
      "text/latex": [
       "$$\\left[\\begin{matrix}\\alpha\\\\\\beta\\end{matrix}\\right]$$"
      ],
      "text/plain": [
       "⎡α⎤\n",
       "⎢ ⎥\n",
       "⎣β⎦"
      ]
     },
     "execution_count": 5,
     "metadata": {},
     "output_type": "execute_result"
    }
   ],
   "source": [
    "represent(psi)"
   ]
  },
  {
   "cell_type": "markdown",
   "metadata": {
    "colab_type": "text",
    "id": "suKiATZ5jDjP"
   },
   "source": [
    "もちろん具体的な数値を代入することもできる。"
   ]
  },
  {
   "cell_type": "code",
   "execution_count": 6,
   "metadata": {
    "colab": {},
    "colab_type": "code",
    "id": "55qn4NVHjDjP",
    "outputId": "564385b8-150e-4110-fa37-58134acf3abc"
   },
   "outputs": [
    {
     "data": {
      "text/html": [
       "\n",
       "    <script>\n",
       "        if (!window.MathJax) {\n",
       "            var script = document.createElement(\"script\");\n",
       "            script.async = \"async\";\n",
       "            script.src = \"https://colab.research.google.com/static/mathjax/MathJax.js?config=TeX-AMS_HTML-full,Safe\";\n",
       "            document.head.appendChild(script);\n",
       "        }\n",
       "    </script>\n",
       "    "
      ],
      "text/plain": [
       "<IPython.core.display.HTML object>"
      ]
     },
     "metadata": {},
     "output_type": "display_data"
    },
    {
     "data": {
      "image/png": "[encoded data removed]",
      "text/latex": [
       "$$\\frac{\\sqrt{2} {\\left|0\\right\\rangle }}{2} + \\frac{\\sqrt{2} {\\left|1\\right\\rangle }}{2}$$"
      ],
      "text/plain": [
       "√2⋅❘0⟩   √2⋅❘1⟩\n",
       "────── + ──────\n",
       "  2        2   "
      ]
     },
     "execution_count": 6,
     "metadata": {},
     "output_type": "execute_result"
    }
   ],
   "source": [
    "psi.subs([([a,1/sqrt(2)]),([b,1/sqrt(2)])]) # alpha, betaに具体的な数字を代入"
   ]
  },
  {
   "cell_type": "markdown",
   "metadata": {
    "colab_type": "text",
    "id": "qsfA88EQjDjS"
   },
   "source": [
    "### 量子ビットに対する基本演算"
   ]
  },
  {
   "cell_type": "markdown",
   "metadata": {
    "colab_type": "text",
    "id": "-kTiAS2zjDjS"
   },
   "source": [
    "古典計算がAND、OR、NOT、NANDなどの論理演算から\n",
    "構成されるのと同様、量子計算も基本的な演算から構成される。\n",
    "量子力学では時間発展はつねに線型なので、**量子コンピュータ上で許された操作は状態ベクトルに対する線型変換**ということになる\n",
    "。\n",
    "１つの量子ビットの量子状態は規格化された２次元複素ベクトル\n",
    "として表現されるのだった。それに対する線型演算は$2 \\times 2$の\n",
    "複素行列によって表現される。規格化条件（確率の合計は1）を守りたいので、\n",
    "転置と複素共役（エルミート共役）が逆行列になるようなユニタリー行列\n",
    "$$\n",
    "U U^{\\dagger} = I\n",
    "$$ \n",
    "（ただし、${}^\\dagger$は転置と複素共役を意味する）\n",
    "が量子演算に対応する。"
   ]
  },
  {
   "cell_type": "markdown",
   "metadata": {
    "colab_type": "text",
    "id": "BCw0oDA2jDjW"
   },
   "source": [
    "１つの量子ビットに作用する基本的な量子演算\n",
    "として**パウリ演算子**を導入する。\n",
    "\\begin{eqnarray}\n",
    "I&=&\n",
    "\\left(\\begin{array}{cc}\n",
    "1 & 0\n",
    "\\\\\n",
    "0 & 1\n",
    "\\end{array}\n",
    "\\right),\\;\\;\\;\n",
    "X=\n",
    "\\left(\\begin{array}{cc}\n",
    "0 & 1\n",
    "\\\\\n",
    "1 & 0\n",
    "\\end{array}\n",
    "\\right),\\;\\;\\;\n",
    "Y &=&\n",
    "\\left(\\begin{array}{cc}\n",
    "0 & -i\n",
    "\\\\\n",
    "i & 0\n",
    "\\end{array}\n",
    "\\right),\\;\\;\\;\n",
    "Z=\n",
    "\\left(\\begin{array}{cc}\n",
    "1 & 0\n",
    "\\\\\n",
    "0 & -1\n",
    "\\end{array}\n",
    "\\right).\n",
    "\\end{eqnarray}\n",
    "\n",
    "$X$は古典ビットの反転（NOT）に対応し\n",
    "$$X|0\\rangle = |1\\rangle, \\;\\;\n",
    "X|1\\rangle = |0\\rangle\n",
    "$$\n",
    "のように作用する。\n",
    "\n",
    "重ね合わせのある量子ビットの場合は、\n",
    "$|0\\rangle$と$|1\\rangle$の位相も\n",
    "情報として保持できるので、位相を反転\n",
    "$$Z|1\\rangle = -|1\\rangle$$\n",
    "させる$Z$演算子も定義されている。\n",
    "\n",
    "例えば、\n",
    "$$\n",
    "Z \\frac{1}{\\sqrt{2}} ( |0\\rangle + |1\\rangle ) = \\frac{1}{\\sqrt{2}} ( |0\\rangle - |1\\rangle ) \n",
    "$$\n",
    "となる。\n",
    "\n",
    "$Y = i XZ$演算子は位相の反転とビットの反転を\n",
    "組み合わせたもの（全体にかかる複素数$i$を除いて）であると\n",
    "考えることができる。\n",
    "\n",
    "パウリ演算子の作用を\n",
    "$$\n",
    "\\left( \n",
    "\\begin{array}{cc}\n",
    "0 & 1 \n",
    "\\\\\n",
    "1 & 0 \n",
    "\\end{array}\n",
    "\\right)\n",
    "\\left( \n",
    "\\begin{array}{c}\n",
    "1 \n",
    "\\\\\n",
    "0 \n",
    "\\end{array}\n",
    "\\right)\n",
    "=\n",
    "\\left( \n",
    "\\begin{array}{c}\n",
    "0\n",
    "\\\\\n",
    "1 \n",
    "\\end{array}\n",
    "\\right)\n",
    "$$\n",
    "のように計算してもよいが、上記のようにディラックのブラケット表記をつかって計算をしたほうが圧倒的に楽。"
   ]
  },
  {
   "cell_type": "markdown",
   "metadata": {
    "colab_type": "text",
    "id": "xDZ-Dd29jDjY"
   },
   "source": [
    "### SymPyを用いた一量子ビット演算\n",
    "SymPyではよく使う基本演算はあらかじめ定義されている。"
   ]
  },
  {
   "cell_type": "code",
   "execution_count": 7,
   "metadata": {
    "colab": {},
    "colab_type": "code",
    "id": "429oA41QjDjY"
   },
   "outputs": [
    {
     "data": {
      "text/html": [
       "\n",
       "    <script>\n",
       "        if (!window.MathJax) {\n",
       "            var script = document.createElement(\"script\");\n",
       "            script.async = \"async\";\n",
       "            script.src = \"https://colab.research.google.com/static/mathjax/MathJax.js?config=TeX-AMS_HTML-full,Safe\";\n",
       "            document.head.appendChild(script);\n",
       "        }\n",
       "    </script>\n",
       "    "
      ],
      "text/plain": [
       "<IPython.core.display.HTML object>"
      ]
     },
     "metadata": {},
     "output_type": "display_data"
    }
   ],
   "source": [
    "from sympy.physics.quantum.gate import X,Y,Z,H,S,T,CNOT,SWAP, CPHASE"
   ]
  },
  {
   "cell_type": "markdown",
   "metadata": {
    "colab_type": "text",
    "id": "iTzqkUUHjDjb"
   },
   "source": [
    "演算子は何番目の量子ビットに作用するか、\n",
    "というのを指定して `X(0)` のように定義すっる。\n",
    "また、これを行列表示するときには、いくつの量子ビットの空間で表現するか \n",
    "`nqubits`というのを指定する必要がある。\n",
    "まだ、量子ビットは１つしかいないので、\n",
    "`X(0)`、`nqubits=1`としておこう。"
   ]
  },
  {
   "cell_type": "code",
   "execution_count": 8,
   "metadata": {
    "colab": {},
    "colab_type": "code",
    "id": "Z17Vx3EZjDjc",
    "outputId": "4a0298a1-c6c0-417c-9f08-c2dc8f21da79"
   },
   "outputs": [
    {
     "data": {
      "text/html": [
       "\n",
       "    <script>\n",
       "        if (!window.MathJax) {\n",
       "            var script = document.createElement(\"script\");\n",
       "            script.async = \"async\";\n",
       "            script.src = \"https://colab.research.google.com/static/mathjax/MathJax.js?config=TeX-AMS_HTML-full,Safe\";\n",
       "            document.head.appendChild(script);\n",
       "        }\n",
       "    </script>\n",
       "    "
      ],
      "text/plain": [
       "<IPython.core.display.HTML object>"
      ]
     },
     "metadata": {},
     "output_type": "display_data"
    },
    {
     "data": {
      "image/png": "[encoded data removed]",
      "text/latex": [
       "$$X_{0}$$"
      ],
      "text/plain": [
       "X \n",
       " 0"
      ]
     },
     "execution_count": 8,
     "metadata": {},
     "output_type": "execute_result"
    }
   ],
   "source": [
    "X(0)"
   ]
  },
  {
   "cell_type": "code",
   "execution_count": 9,
   "metadata": {
    "colab": {},
    "colab_type": "code",
    "id": "M5-QaSjVjDjh",
    "outputId": "62f03195-21d1-42d6-f8e1-e0be2935736f"
   },
   "outputs": [
    {
     "data": {
      "text/html": [
       "\n",
       "    <script>\n",
       "        if (!window.MathJax) {\n",
       "            var script = document.createElement(\"script\");\n",
       "            script.async = \"async\";\n",
       "            script.src = \"https://colab.research.google.com/static/mathjax/MathJax.js?config=TeX-AMS_HTML-full,Safe\";\n",
       "            document.head.appendChild(script);\n",
       "        }\n",
       "    </script>\n",
       "    "
      ],
      "text/plain": [
       "<IPython.core.display.HTML object>"
      ]
     },
     "metadata": {},
     "output_type": "display_data"
    },
    {
     "data": {
      "image/png": "[encoded data removed]",
      "text/latex": [
       "$$\\left[\\begin{matrix}0 & 1\\\\1 & 0\\end{matrix}\\right]$$"
      ],
      "text/plain": [
       "⎡0  1⎤\n",
       "⎢    ⎥\n",
       "⎣1  0⎦"
      ]
     },
     "execution_count": 9,
     "metadata": {},
     "output_type": "execute_result"
    }
   ],
   "source": [
    "represent(X(0),nqubits=1)  # パウリX"
   ]
  },
  {
   "cell_type": "markdown",
   "metadata": {
    "colab_type": "text",
    "id": "wYqb2xMTjDjl"
   },
   "source": [
    "同様に、Y,Zなども利用することができる。それに加え、アダマール演算 `H` や、位相演算 `S`、そしてpi/4の位相演算\n",
    " `T` も利用することができる："
   ]
  },
  {
   "cell_type": "code",
   "execution_count": 10,
   "metadata": {
    "colab": {},
    "colab_type": "code",
    "id": "GoetLCZMjDjm",
    "outputId": "0d419848-4d69-4649-c348-0e0c8edf8f71"
   },
   "outputs": [
    {
     "data": {
      "text/html": [
       "\n",
       "    <script>\n",
       "        if (!window.MathJax) {\n",
       "            var script = document.createElement(\"script\");\n",
       "            script.async = \"async\";\n",
       "            script.src = \"https://colab.research.google.com/static/mathjax/MathJax.js?config=TeX-AMS_HTML-full,Safe\";\n",
       "            document.head.appendChild(script);\n",
       "        }\n",
       "    </script>\n",
       "    "
      ],
      "text/plain": [
       "<IPython.core.display.HTML object>"
      ]
     },
     "metadata": {},
     "output_type": "display_data"
    },
    {
     "data": {
      "image/png": "[encoded data removed]",
      "text/latex": [
       "$$\\left[\\begin{matrix}\\frac{1}{\\sqrt{2}} & \\frac{1}{\\sqrt{2}}\\\\\\frac{1}{\\sqrt{2}} & - \\frac{\\sqrt{2}}{2}\\end{matrix}\\right]$$"
      ],
      "text/plain": [
       "⎡1    1  ⎤\n",
       "⎢──   ── ⎥\n",
       "⎢√2   √2 ⎥\n",
       "⎢        ⎥\n",
       "⎢1   -√2 ⎥\n",
       "⎢──  ────⎥\n",
       "⎣√2   2  ⎦"
      ]
     },
     "execution_count": 10,
     "metadata": {},
     "output_type": "execute_result"
    }
   ],
   "source": [
    "represent(H(0),nqubits=1)"
   ]
  },
  {
   "cell_type": "code",
   "execution_count": 11,
   "metadata": {
    "colab": {},
    "colab_type": "code",
    "id": "KHlhSKyAjDjp",
    "outputId": "718387c4-d682-435e-c0f6-e00a2d512f40"
   },
   "outputs": [
    {
     "data": {
      "text/html": [
       "\n",
       "    <script>\n",
       "        if (!window.MathJax) {\n",
       "            var script = document.createElement(\"script\");\n",
       "            script.async = \"async\";\n",
       "            script.src = \"https://colab.research.google.com/static/mathjax/MathJax.js?config=TeX-AMS_HTML-full,Safe\";\n",
       "            document.head.appendChild(script);\n",
       "        }\n",
       "    </script>\n",
       "    "
      ],
      "text/plain": [
       "<IPython.core.display.HTML object>"
      ]
     },
     "metadata": {},
     "output_type": "display_data"
    },
    {
     "data": {
      "image/png": "[encoded data removed]",
      "text/latex": [
       "$$\\left[\\begin{matrix}1 & 0\\\\0 & i\\end{matrix}\\right]$$"
      ],
      "text/plain": [
       "⎡1  0⎤\n",
       "⎢    ⎥\n",
       "⎣0  ⅈ⎦"
      ]
     },
     "execution_count": 11,
     "metadata": {},
     "output_type": "execute_result"
    }
   ],
   "source": [
    "represent(S(0),nqubits=1)"
   ]
  },
  {
   "cell_type": "code",
   "execution_count": 12,
   "metadata": {
    "colab": {},
    "colab_type": "code",
    "id": "JY4XPi5-jDjt",
    "outputId": "17949ae7-7d91-4070-a5dc-a6438a933f1e"
   },
   "outputs": [
    {
     "data": {
      "text/html": [
       "\n",
       "    <script>\n",
       "        if (!window.MathJax) {\n",
       "            var script = document.createElement(\"script\");\n",
       "            script.async = \"async\";\n",
       "            script.src = \"https://colab.research.google.com/static/mathjax/MathJax.js?config=TeX-AMS_HTML-full,Safe\";\n",
       "            document.head.appendChild(script);\n",
       "        }\n",
       "    </script>\n",
       "    "
      ],
      "text/plain": [
       "<IPython.core.display.HTML object>"
      ]
     },
     "metadata": {},
     "output_type": "display_data"
    },
    {
     "data": {
      "image/png": "[encoded data removed]",
      "text/latex": [
       "$$\\left[\\begin{matrix}1 & 0\\\\0 & e^{\\frac{i \\pi}{4}}\\end{matrix}\\right]$$"
      ],
      "text/plain": [
       "⎡1   0  ⎤\n",
       "⎢       ⎥\n",
       "⎢    ⅈ⋅π⎥\n",
       "⎢    ───⎥\n",
       "⎢     4 ⎥\n",
       "⎣0  ℯ   ⎦"
      ]
     },
     "execution_count": 12,
     "metadata": {},
     "output_type": "execute_result"
    }
   ],
   "source": [
    "represent(T(0),nqubits=1)"
   ]
  },
  {
   "cell_type": "markdown",
   "metadata": {
    "colab_type": "text",
    "id": "WHJnjJlUjDjw"
   },
   "source": [
    "これらの演算を状態に作用させるのは、"
   ]
  },
  {
   "cell_type": "code",
   "execution_count": 13,
   "metadata": {
    "colab": {},
    "colab_type": "code",
    "id": "PDa71nXCjDjw",
    "outputId": "c10c626d-5fd4-453a-fc96-d3d77bcbdfa6"
   },
   "outputs": [
    {
     "data": {
      "text/html": [
       "\n",
       "    <script>\n",
       "        if (!window.MathJax) {\n",
       "            var script = document.createElement(\"script\");\n",
       "            script.async = \"async\";\n",
       "            script.src = \"https://colab.research.google.com/static/mathjax/MathJax.js?config=TeX-AMS_HTML-full,Safe\";\n",
       "            document.head.appendChild(script);\n",
       "        }\n",
       "    </script>\n",
       "    "
      ],
      "text/plain": [
       "<IPython.core.display.HTML object>"
      ]
     },
     "metadata": {},
     "output_type": "display_data"
    },
    {
     "data": {
      "image/png": "[encoded data removed]",
      "text/latex": [
       "$$S_{0} Y_{0} X_{0} H_{0} {\\left|0\\right\\rangle }$$"
      ],
      "text/plain": [
       "S ⋅Y ⋅X ⋅H ⋅❘0⟩\n",
       " 0  0  0  0    "
      ]
     },
     "execution_count": 13,
     "metadata": {},
     "output_type": "execute_result"
    }
   ],
   "source": [
    "S(0)*Y(0)*X(0)*H(0)*ket0"
   ]
  },
  {
   "cell_type": "markdown",
   "metadata": {
    "colab_type": "text",
    "id": "fC08tDbvjDjy"
   },
   "source": [
    "のように `*`で書くことができる。実際に計算をする場合は `qapply()`を利用する。"
   ]
  },
  {
   "cell_type": "code",
   "execution_count": 14,
   "metadata": {
    "colab": {},
    "colab_type": "code",
    "id": "lJvga4X4jDj5",
    "outputId": "372213bc-d074-44c8-b1ea-0c635a8c5acb"
   },
   "outputs": [
    {
     "data": {
      "text/html": [
       "\n",
       "    <script>\n",
       "        if (!window.MathJax) {\n",
       "            var script = document.createElement(\"script\");\n",
       "            script.async = \"async\";\n",
       "            script.src = \"https://colab.research.google.com/static/mathjax/MathJax.js?config=TeX-AMS_HTML-full,Safe\";\n",
       "            document.head.appendChild(script);\n",
       "        }\n",
       "    </script>\n",
       "    "
      ],
      "text/plain": [
       "<IPython.core.display.HTML object>"
      ]
     },
     "metadata": {},
     "output_type": "display_data"
    },
    {
     "data": {
      "image/png": "[encoded data removed]",
      "text/latex": [
       "$$- \\frac{\\sqrt{2} i {\\left|0\\right\\rangle }}{2} - \\frac{\\sqrt{2} {\\left|1\\right\\rangle }}{2}$$"
      ],
      "text/plain": [
       "  √2⋅ⅈ⋅❘0⟩   √2⋅❘1⟩\n",
       "- ──────── - ──────\n",
       "     2         2   "
      ]
     },
     "execution_count": 14,
     "metadata": {},
     "output_type": "execute_result"
    }
   ],
   "source": [
    "qapply(S(0)*Y(0)*X(0)*H(0)*ket0)"
   ]
  },
  {
   "cell_type": "markdown",
   "metadata": {
    "colab_type": "text",
    "id": "kl_ZWf5sjDj6"
   },
   "source": [
    "この列ベクトル表示が必要な場合は、"
   ]
  },
  {
   "cell_type": "code",
   "execution_count": 15,
   "metadata": {
    "colab": {},
    "colab_type": "code",
    "id": "FrP7AO4XjDj6",
    "outputId": "8b5b8ca1-0082-4dca-a017-6b01caac9efb"
   },
   "outputs": [
    {
     "data": {
      "text/html": [
       "\n",
       "    <script>\n",
       "        if (!window.MathJax) {\n",
       "            var script = document.createElement(\"script\");\n",
       "            script.async = \"async\";\n",
       "            script.src = \"https://colab.research.google.com/static/mathjax/MathJax.js?config=TeX-AMS_HTML-full,Safe\";\n",
       "            document.head.appendChild(script);\n",
       "        }\n",
       "    </script>\n",
       "    "
      ],
      "text/plain": [
       "<IPython.core.display.HTML object>"
      ]
     },
     "metadata": {},
     "output_type": "display_data"
    },
    {
     "data": {
      "image/png": "[encoded data removed]",
      "text/latex": [
       "$$\\left[\\begin{matrix}- \\frac{\\sqrt{2} i}{2}\\\\- \\frac{\\sqrt{2}}{2}\\end{matrix}\\right]$$"
      ],
      "text/plain": [
       "⎡-√2⋅ⅈ ⎤\n",
       "⎢──────⎥\n",
       "⎢  2   ⎥\n",
       "⎢      ⎥\n",
       "⎢ -√2  ⎥\n",
       "⎢ ──── ⎥\n",
       "⎣  2   ⎦"
      ]
     },
     "execution_count": 15,
     "metadata": {},
     "output_type": "execute_result"
    }
   ],
   "source": [
    "represent(qapply(S(0)*Y(0)*X(0)*H(0)*ket0))"
   ]
  },
  {
   "cell_type": "markdown",
   "metadata": {
    "colab_type": "text",
    "id": "Q0WS2GgrjDj8"
   },
   "source": [
    "のような感じで、SymPyは簡単な行列の計算はすべて自動的にやってくれる。"
   ]
  },
  {
   "cell_type": "markdown",
   "metadata": {
    "colab_type": "text",
    "id": "00CSXe8hjDj9"
   },
   "source": [
    "### ブラケット表記のまとめ（必要であればコラムへ）\n",
    "列ベクトルは \n",
    "$$\n",
    "|\\psi \\rangle = \\left( \n",
    "\\begin{array}{c}\n",
    "\\alpha\n",
    "\\\\\n",
    "\\beta \n",
    "\\end{array}\n",
    "\\right)\n",
    "$$\n",
    "とかくのであった。同様に、行ベクトルは\n",
    "$$\n",
    "\\langle \\psi | = ( |\\psi \\rangle ) ^{\\dagger} = ( \\alpha ^* , \\beta ^*)\n",
    "$$\n",
    "とかく。${\\dagger}$マークは転置と複素共役を取る操作で、列ベクトルを行ベクトルへと移す。\n",
    "\n",
    "２つのベクトル、\n",
    "$$\n",
    "|\\psi \\rangle = \\left( \n",
    "\\begin{array}{c}\n",
    "\\alpha\n",
    "\\\\\n",
    "\\beta \n",
    "\\end{array}\n",
    "\\right), \\;\\;\\;\n",
    "|\\phi \\rangle = \\left( \n",
    "\\begin{array}{c}\n",
    "\\gamma\n",
    "\\\\\n",
    "\\delta\n",
    "\\end{array}\n",
    "\\right)\n",
    "$$\n",
    "があったとする。ブラケットを抱き合わせると\n",
    "$$\n",
    "\\langle \\phi | \\psi \\rangle = (\\gamma ^* , \\delta ^* ) \\left( \n",
    "\\begin{array}{c}\n",
    "\\alpha\n",
    "\\\\\n",
    "\\beta \n",
    "\\end{array}\n",
    "\\right) = \\gamma ^* \\alpha + \\delta ^* \\beta \n",
    "$$\n",
    "となり、**内積**に対応する。\n",
    "\n",
    "逆に、背中合わせにあすると\n",
    "$$\n",
    "|\\phi \\rangle \\langle \\psi | = \\left( \n",
    "\\begin{array}{c}\n",
    "\\gamma\n",
    "\\\\\n",
    "\\delta\n",
    "\\end{array}\n",
    "\\right) (\\alpha ^* , \\beta ^*) = \\left( \n",
    "\\begin{array}{cc}\n",
    "\\gamma \\alpha ^*  & \\gamma \\beta ^* \n",
    "\\\\\n",
    "\\delta \\alpha ^*   & \\delta \\beta ^*\n",
    "\\end{array}\n",
    "\\right)\n",
    "$$\n",
    "となり、演算子となる。例えば、\n",
    "$$\n",
    "X= |0\\rangle \\langle 1 | + |1\\rangle \\langle 0|\n",
    "$$\n",
    "となる。このことを覚えておけば\n",
    "$$\n",
    "\\langle 0| 0\\rangle = \\langle 1 | 1\\rangle = 1, \\;\\;\\; \\langle 0 | 1 \\rangle = \\langle 1 | 0 \\rangle = 0\n",
    "$$\n",
    "から \n",
    "$$\n",
    "X |0\\rangle = |1\\rangle\n",
    "$$\n",
    "を行列を書かずに計算できるようになる。**このように量子情報のほとんどの解析計算において実際にベクトルの要素を書き下して計算をすることはほとんどなく、ブラケットを使って形式的に書く場合が多い**（古典計算機上で量子コンピュータをシミュレーションする場合はベクトルをすべて書き下すことになる）。\n",
    "\n",
    "同様に、\n",
    "$$\n",
    "I = |0\\rangle \\langle 0 | + |1\\rangle \\langle 1| , \\;\\;\\; Z = |0\\rangle \\langle 0| - |1\\rangle \\langle 1| \n",
    "$$\n",
    "も覚えておくと便利。"
   ]
  },
  {
   "cell_type": "markdown",
   "metadata": {
    "colab_type": "text",
    "id": "S5qw4OA_jDj9"
   },
   "source": [
    "### 複数量子ビットの記述"
   ]
  },
  {
   "cell_type": "markdown",
   "metadata": {
    "colab_type": "text",
    "id": "zZZSlrM5jDj-"
   },
   "source": [
    "$n$個の古典ビットの状態は$n$個の$0,1$の数字によって表現され、\n",
    "そのパターンの総数は$2^n$個ある。\n",
    "\n",
    "量子力学では、これらすべてのパターンの重ね合わせ状態が許されているので、どのビット列がどのような重みで重ね合わせになっているかという$2^n$個の複素確率振幅で記述される：\n",
    "\\begin{eqnarray}\n",
    "|\\psi \\rangle &= & \n",
    "c_{00...0} |00...0\\rangle \n",
    "+ c_{00...1} |00...1\\rangle \n",
    "+ \\cdots \n",
    "+ c_{11...1} |11...1\\rangle\n",
    "=  \n",
    "\\left(\n",
    "\\begin{array}{c}\n",
    "c_{00...0}\n",
    "\\\\\n",
    "c_{00...1}\n",
    "\\\\\n",
    "\\vdots\n",
    "\\\\\n",
    "c_{11...1}\n",
    "\\end{array}\n",
    "\\right).\n",
    "\\end{eqnarray}\n",
    "ただし、\n",
    "複素確率振幅は規格化\n",
    "$\\sum _{i_1,..., i_n} |c_{i_1...i_n}|^2=1$\n",
    "されているものとする。\n",
    "\n",
    "**このように$n$量子ビットの重ね合わせ状態は、\n",
    "$n$に対して指数的に大きい$2^n$次元の\n",
    "複素ベクトル空間で記述する必要があり、\n",
    "ここに古典ビットと量子ビットの違いが顕著に現れる**。\n",
    "\n",
    "量子コンピュータとは量子ビット数に対して指数的なサイズの複素ベクトルを物理法則に従ってユニタリー変換するコンピュータのことである。\n",
    "\n",
    "この$n$量子ビットの量子状態を測定すると\n",
    "ビット列$i_1 ... i_n$が確率\n",
    "\\begin{eqnarray}\n",
    "p_{i_1 ... i_n} &=&|c_{i_1 ... i_n}|^2\n",
    "\\label{eq02}\n",
    "\\end{eqnarray}\n",
    "でランダムに得られる。\n",
    "\n",
    "初期状態として\n",
    "$$ \n",
    "|00...0\\rangle \n",
    "$$\n",
    "を準備したとき\n",
    "$$\n",
    "\\left(\n",
    "\\begin{array}{c}\n",
    "c_{00...0}\n",
    "\\\\\n",
    "c_{00...1}\n",
    "\\\\\n",
    "\\vdots\n",
    "\\\\\n",
    "c_{11...1}\n",
    "\\end{array}\n",
    "\\right)　\n",
    "= \n",
    "\\left(\n",
    "\\begin{array}{c}\n",
    "1\n",
    "\\\\\n",
    "0\n",
    "\\\\\n",
    "\\vdots\n",
    "\\\\\n",
    "0\n",
    "\\end{array}\n",
    "\\right)　\n",
    ".\n",
    "$$"
   ]
  },
  {
   "cell_type": "markdown",
   "metadata": {
    "colab_type": "text",
    "id": "SYOr7Bq6jDj-"
   },
   "source": [
    " 2量子ビットの場合は、 00, 01, 10, 11 の４通りの状態の重ね合わせがとりうるので\n",
    "$$\n",
    "c_{00} |00\\rangle + c_{01} |01\\rangle + c_{10}|10\\rangle + c_{11} |11\\rangle  = \n",
    "\\left( \n",
    "\\begin{array}{c}\n",
    "c_{00}\n",
    "\\\\\n",
    "c_{01}\n",
    "\\\\\n",
    "c_{10}\n",
    "\\\\\n",
    "c_{11}\n",
    "\\end{array}\n",
    "\\right)\n",
    "$$\n",
    "と一般的にかける。"
   ]
  },
  {
   "cell_type": "markdown",
   "metadata": {
    "colab_type": "text",
    "id": "4y2RvAV_jDj_"
   },
   "source": [
    "２量子ビットに作用する演算としてもっとも重要なのが制御NOT演算（CNOT）\n",
    "\\begin{eqnarray}\n",
    "\\Lambda(X) =\n",
    "\\left(\n",
    "\\begin{array}{cccc}\n",
    "1 & 0 & 0& 0\n",
    "\\\\\n",
    "0 & 1 & 0& 0\n",
    "\\\\\n",
    "0 & 0 & 0 & 1\n",
    "\\\\\n",
    "0 & 0 & 1& 0\n",
    "\\end{array}\n",
    "\\right)\n",
    "\\end{eqnarray}\n",
    "がある。\n",
    "4行4列の行列成分はそれぞれ$|00\\rangle,|01\\rangle,|10\\rangle, |01\\rangle$\n",
    "成分に対応する。\n",
    "\n",
    "つまり、\n",
    "１つめの量子ビットが$|0\\rangle$の場合は何もせず（恒等演算$I$が作用）、\n",
    "$|1\\rangle$の場合に２つめの量子ビットに$X$を作用させる。\n",
    "１つ目の量子ビットを制御量子ビット、２つめの量子ビットをターゲット量子ビットと呼ぶ。\n",
    "制御NOT演算の作用は、$\\oplus$を mod 2の足し算として、\n",
    "\\begin{eqnarray}\n",
    "\\Lambda(X) |ij \\rangle = |i \\;\\; (i\\oplus j)\\rangle\n",
    "\\end{eqnarray}\n",
    "と書けるので、古典計算における排他的論理和（XOR）を可逆にしたものである。\n",
    "例えば、１つめの量子ビットを$|0\\rangle$と$|1\\rangle$の\n",
    "重ね合わせ状態にし、２つめの量子ビットを$|0\\rangle$として\n",
    "\\begin{eqnarray}\n",
    "\\frac{1}{\\sqrt{2}}(|0\\rangle + |1\\rangle )\\otimes |0\\rangle \n",
    "=\n",
    "\\frac{1}{\\sqrt{2}}\n",
    "\\left(\n",
    "\\begin{array}{c}\n",
    "1\n",
    "\\\\\n",
    "0\n",
    "\\\\\n",
    "1\n",
    "\\\\\n",
    "0\n",
    "\\end{array}\n",
    "\\right)\n",
    "\\end{eqnarray}\n",
    "にCNOTを作用させると、\n",
    "\\begin{eqnarray}\n",
    "\\frac{1}{\\sqrt{2}}( |00\\rangle + |11\\rangle )\n",
    "=\n",
    "\\frac{1}{\\sqrt{2}}\n",
    "\\left(\n",
    "\\begin{array}{c}\n",
    "1\n",
    "\\\\\n",
    "0\n",
    "\\\\\n",
    "0\n",
    "\\\\\n",
    "1\n",
    "\\end{array}\n",
    "\\right)\n",
    "\\end{eqnarray}\n",
    "が得られる。\n",
    "\n",
    "例：CNOT ゲートを組み合わせることでSWAP ゲートを作ることができる。\n",
    "$$\\Lambda(X)_{i,j}$$ をi 番目の量子ビットを制御、j 番目の量子ビットをターゲットとするCNOT ゲートとして、\n",
    "$$\n",
    "\\begin{eqnarray}\n",
    "SWAP &=& \\Lambda(X)_{1,2} \\Lambda(X)_{2,1} \\Lambda(X)_{1,2}\n",
    "&=&\n",
    "\\left(\n",
    "\\begin{array}{cccc}\n",
    "1 & 0 & 0 & 0 \\\\\n",
    "0 & 1 & 0 & 0 \\\\\n",
    "0 & 0 & 0 & 1 \\\\\n",
    "0 & 0 & 1 & 0\n",
    "\\end{array}\n",
    "\\right)\n",
    "\\left(\n",
    "\\begin{array}{cccc}\n",
    "1 & 0 & 0 & 0 \\\\\n",
    "0 & 0 & 0 & 1 \\\\\n",
    "0 & 0 & 1 & 0 \\\\\n",
    "0 & 1 & 0 & 0\n",
    "\\end{array}\n",
    "\\right)\n",
    "\\left(\n",
    "\\begin{array}{cccc}\n",
    "1 & 0 & 0 & 0 \\\\\n",
    "0 & 1 & 0 & 0 \\\\\n",
    "0 & 0 & 0 & 1 \\\\\n",
    "0 & 0 & 1 & 0\n",
    "\\end{array}\n",
    "\\right)\n",
    "&=&\n",
    "\\left(\n",
    "\\begin{array}{cccc}\n",
    "1 & 0 & 0 & 0 \\\\\n",
    "0 & 0 & 1 & 0 \\\\\n",
    "0 & 1 & 0 & 0 \\\\\n",
    "0 & 0 & 0 & 1\n",
    "\\end{array}\n",
    "\\right)\n",
    "\\end{eqnarray}\n",
    "$$\n",
    "のように書ける。これは1 番目の量子ビットと2 番目の量子ビットが交換するゲートであることが分かる。"
   ]
  },
  {
   "cell_type": "markdown",
   "metadata": {
    "colab_type": "text",
    "id": "0Sy1atIsjDkA"
   },
   "source": [
    "### テンソル積の計算\n",
    "手計算や解析計算で威力を発揮するのは、**テンソル積**（$\\otimes$）である。\n",
    "これは、複数の量子ビットがある場合に、それをどのようにして、上で見た大きな一つのベクトルへと変換するのか？という計算のルールを与えてくれる。\n",
    "\n",
    "量子力学の世界では、２つの量子状態$|\\psi \\rangle$と$|\\phi \\rangle$があるとき、\n",
    "$$\n",
    "|\\psi \\rangle \\otimes |\\phi\\rangle\n",
    "$$\n",
    "とテンソル積 $\\otimes$ を用いて書く。このような複数の量子系からなる系のことを**複合系**と呼ぶ。例えば２量子ビット系は複合系である。\n",
    "\n",
    "基本的にはテンソル積は、**多項式と同じような計算ルール**で計算してよいと思っていい。\n",
    "例えば、\n",
    "$$ \n",
    "(\\alpha |0\\rangle + \\beta |1\\rangle )\\otimes (\\gamma |0\\rangle + \\delta |1\\rangle )\n",
    "= \\alpha \\gamma |0\\rangle |0\\rangle + \\alpha \\delta |0\\rangle |1\\rangle + \\beta \\gamma |1 \\rangle | 0\\rangle + \\beta \\delta |1\\rangle |1\\rangle \n",
    "$$\n",
    "のように計算する。列ベクトル表示すると、$|00\\rangle$, $|01\\rangle$, $|10\\rangle$, $|11\\rangle$に対応する4次元ベクトル、\n",
    "$$\n",
    "\\left(\n",
    "\\begin{array}{c}\n",
    "\\alpha\n",
    "\\\\\n",
    "\\beta\n",
    "\\end{array}\n",
    "\\right)\n",
    "\\otimes \n",
    "\\left(\n",
    "\\begin{array}{c}\n",
    "\\gamma\n",
    "\\\\\n",
    "\\delta\n",
    "\\end{array}\n",
    "\\right)\n",
    "=\n",
    "\\left(\n",
    "\\begin{array}{c}\n",
    "\\alpha \\gamma\n",
    "\\\\\n",
    "\\alpha \\delta\n",
    "\\\\\n",
    "\\beta \\gamma\n",
    "\\\\\n",
    "\\beta \\delta\n",
    "\\end{array}\n",
    "\\right)\n",
    "$$\n",
    "を得る計算になっている。\n"
   ]
  },
  {
   "cell_type": "markdown",
   "metadata": {
    "colab_type": "text",
    "id": "E0nP2YUBjDkA"
   },
   "source": [
    "### SymPyを用いたテンソル積の計算\n"
   ]
  },
  {
   "cell_type": "code",
   "execution_count": 16,
   "metadata": {
    "colab": {},
    "colab_type": "code",
    "id": "Zn8MxcqwjDkB"
   },
   "outputs": [
    {
     "data": {
      "text/html": [
       "\n",
       "    <script>\n",
       "        if (!window.MathJax) {\n",
       "            var script = document.createElement(\"script\");\n",
       "            script.async = \"async\";\n",
       "            script.src = \"https://colab.research.google.com/static/mathjax/MathJax.js?config=TeX-AMS_HTML-full,Safe\";\n",
       "            document.head.appendChild(script);\n",
       "        }\n",
       "    </script>\n",
       "    "
      ],
      "text/plain": [
       "<IPython.core.display.HTML object>"
      ]
     },
     "metadata": {},
     "output_type": "display_data"
    }
   ],
   "source": [
    "a,b,c,d = symbols('alpha,beta,gamma,delta')\n",
    "psi = a*Qubit('0')+b*Qubit('1')\n",
    "phi = c*Qubit('0')+d*Qubit('1')"
   ]
  },
  {
   "cell_type": "code",
   "execution_count": 17,
   "metadata": {
    "colab": {},
    "colab_type": "code",
    "id": "5H9b5lxXjDkD",
    "outputId": "e3b6bf9f-74ab-40cd-aa79-c95401c3d585"
   },
   "outputs": [
    {
     "data": {
      "text/html": [
       "\n",
       "    <script>\n",
       "        if (!window.MathJax) {\n",
       "            var script = document.createElement(\"script\");\n",
       "            script.async = \"async\";\n",
       "            script.src = \"https://colab.research.google.com/static/mathjax/MathJax.js?config=TeX-AMS_HTML-full,Safe\";\n",
       "            document.head.appendChild(script);\n",
       "        }\n",
       "    </script>\n",
       "    "
      ],
      "text/plain": [
       "<IPython.core.display.HTML object>"
      ]
     },
     "metadata": {},
     "output_type": "display_data"
    },
    {
     "data": {
      "image/png": "[encoded data removed]",
      "text/latex": [
       "$$\\left({\\alpha {\\left|0\\right\\rangle } + \\beta {\\left|1\\right\\rangle }}\\right)\\otimes \\left({\\delta {\\left|1\\right\\rangle } + \\gamma {\\left|0\\right\\rangle }}\\right)$$"
      ],
      "text/plain": [
       "(α⋅❘0⟩ + β⋅❘1⟩)⨂ (δ⋅❘1⟩ + γ⋅❘0⟩)"
      ]
     },
     "execution_count": 17,
     "metadata": {},
     "output_type": "execute_result"
    }
   ],
   "source": [
    "TensorProduct(psi, phi) #テンソル積"
   ]
  },
  {
   "cell_type": "code",
   "execution_count": 18,
   "metadata": {
    "colab": {},
    "colab_type": "code",
    "id": "4PLJcjG9jDkE",
    "outputId": "a5cac454-2a76-405e-e406-68291f1aa704"
   },
   "outputs": [
    {
     "data": {
      "text/html": [
       "\n",
       "    <script>\n",
       "        if (!window.MathJax) {\n",
       "            var script = document.createElement(\"script\");\n",
       "            script.async = \"async\";\n",
       "            script.src = \"https://colab.research.google.com/static/mathjax/MathJax.js?config=TeX-AMS_HTML-full,Safe\";\n",
       "            document.head.appendChild(script);\n",
       "        }\n",
       "    </script>\n",
       "    "
      ],
      "text/plain": [
       "<IPython.core.display.HTML object>"
      ]
     },
     "metadata": {},
     "output_type": "display_data"
    },
    {
     "data": {
      "image/png": "[encoded data removed]",
      "text/latex": [
       "$$\\left[\\begin{matrix}\\alpha \\gamma\\\\\\alpha \\delta\\\\\\beta \\gamma\\\\\\beta \\delta\\end{matrix}\\right]$$"
      ],
      "text/plain": [
       "⎡α⋅γ⎤\n",
       "⎢   ⎥\n",
       "⎢α⋅δ⎥\n",
       "⎢   ⎥\n",
       "⎢β⋅γ⎥\n",
       "⎢   ⎥\n",
       "⎣β⋅δ⎦"
      ]
     },
     "execution_count": 18,
     "metadata": {},
     "output_type": "execute_result"
    }
   ],
   "source": [
    "represent(TensorProduct(psi, phi))"
   ]
  },
  {
   "cell_type": "markdown",
   "metadata": {
    "colab_type": "text",
    "id": "qub7RTm2jDkG"
   },
   "source": [
    "さらに$|\\psi\\rangle$とのテンソル積をとると８次元のベクトルになる：\n"
   ]
  },
  {
   "cell_type": "code",
   "execution_count": 19,
   "metadata": {
    "colab": {},
    "colab_type": "code",
    "id": "sVC53glUjDkG",
    "outputId": "0a8e037b-4e03-4c13-aa0a-c9eda2dd139a"
   },
   "outputs": [
    {
     "data": {
      "text/html": [
       "\n",
       "    <script>\n",
       "        if (!window.MathJax) {\n",
       "            var script = document.createElement(\"script\");\n",
       "            script.async = \"async\";\n",
       "            script.src = \"https://colab.research.google.com/static/mathjax/MathJax.js?config=TeX-AMS_HTML-full,Safe\";\n",
       "            document.head.appendChild(script);\n",
       "        }\n",
       "    </script>\n",
       "    "
      ],
      "text/plain": [
       "<IPython.core.display.HTML object>"
      ]
     },
     "metadata": {},
     "output_type": "display_data"
    },
    {
     "data": {
      "image/png": "[encoded data removed]",
      "text/latex": [
       "$$\\left[\\begin{matrix}\\alpha^{2} \\gamma\\\\\\alpha^{2} \\delta\\\\\\alpha \\beta \\gamma\\\\\\alpha \\beta \\delta\\\\\\alpha \\beta \\gamma\\\\\\alpha \\beta \\delta\\\\\\beta^{2} \\gamma\\\\\\beta^{2} \\delta\\end{matrix}\\right]$$"
      ],
      "text/plain": [
       "⎡ 2   ⎤\n",
       "⎢α ⋅γ ⎥\n",
       "⎢     ⎥\n",
       "⎢ 2   ⎥\n",
       "⎢α ⋅δ ⎥\n",
       "⎢     ⎥\n",
       "⎢α⋅β⋅γ⎥\n",
       "⎢     ⎥\n",
       "⎢α⋅β⋅δ⎥\n",
       "⎢     ⎥\n",
       "⎢α⋅β⋅γ⎥\n",
       "⎢     ⎥\n",
       "⎢α⋅β⋅δ⎥\n",
       "⎢     ⎥\n",
       "⎢ 2   ⎥\n",
       "⎢β ⋅γ ⎥\n",
       "⎢     ⎥\n",
       "⎢ 2   ⎥\n",
       "⎣β ⋅δ ⎦"
      ]
     },
     "execution_count": 19,
     "metadata": {},
     "output_type": "execute_result"
    }
   ],
   "source": [
    "represent(TensorProduct(psi,TensorProduct(psi, phi)))"
   ]
  },
  {
   "cell_type": "markdown",
   "metadata": {
    "colab_type": "text",
    "id": "XFioeA99jDkJ"
   },
   "source": [
    "### 演算子のテンソル積\n",
    "演算子についても何番目の量子ビットに作用するのか、というのをテンソル積をもちいて表現することができる。たとえば、１つめの量子ビットには$A$という演算子、2つめの演算子には$B$を作用させるという場合には、\n",
    "$$ A \\otimes B$$\n",
    "としてテンソル積演算子が与えられる。\n",
    "$A$と$B$をそれぞれ、2×2の行列とすると、$A\\otimes B$は4×4の行列として\n",
    "$$\n",
    "\\left(\n",
    "\\begin{array}{cc}\n",
    "a_{11} & a_{12}\n",
    "\\\\\n",
    "a_{21} & a_{22}\n",
    "\\end{array}\n",
    "\\right)\n",
    "\\otimes \n",
    "\\left(\n",
    "\\begin{array}{cc}\n",
    "b_{11} & b_{12}\n",
    "\\\\\n",
    "b_{21} & b_{22}\n",
    "\\end{array}\n",
    "\\right)\n",
    "=\n",
    "\\left(\n",
    "\\begin{array}{cccc}\n",
    "a_{11} b_{11} & a_{11} b_{12} & a_{12} b_{11} & a_{12} b_{12}\n",
    "\\\\\n",
    "a_{11} b_{21} & a_{11} b_{22} & a_{12} b_{21} & a_{12} b_{22}\n",
    "\\\\\n",
    "a_{21} b_{11} & a_{21} b_{12} & a_{22} b_{11} & a_{22} b_{12}\n",
    "\\\\\n",
    "a_{21} b_{21} & a_{21} b_{22} & a_{22} b_{21} & a_{22} b_{22}\n",
    "\\end{array}\n",
    "\\right)\n",
    "$$\n",
    "のように計算される。\n",
    "\n",
    "\n",
    "\n",
    "テンソル積状態 \n",
    "$$|\\psi \\rangle \\otimes | \\phi \\rangle $$ \n",
    "に対する作用は、\n",
    "$$ (A|\\psi \\rangle ) \\otimes (B |\\phi \\rangle )$$\n",
    "となり、それぞれの部分系$|\\psi \\rangle$と$|\\phi\\rangle$に$A$と$B$が作用する。\n",
    "足し算に対しては、多項式のように展開してそれぞれの項を作用させればよい。\n",
    "$$\n",
    "(A+C)\\otimes (B+D) |\\psi \\rangle \\otimes | \\phi \\rangle\n",
    "=(A \\otimes B +A \\otimes D + C \\otimes B + C \\otimes D) |\\psi \\rangle \\otimes | \\phi \\rangle\n",
    "\\\\\n",
    "=\n",
    "(A|\\psi \\rangle) \\otimes (B| \\phi \\rangle)\n",
    "+(A|\\psi \\rangle) \\otimes (D| \\phi \\rangle)\n",
    "+(C|\\psi \\rangle) \\otimes (B| \\phi \\rangle)\n",
    "+(C|\\psi \\rangle) \\otimes (D| \\phi \\rangle)\n",
    "$$\n",
    "\n",
    "\n",
    "テンソル積やテンソル積演算子は左右横並びで書いているが、本当は\n",
    "$$\n",
    "\\left(\n",
    "\\begin{array}{c}\n",
    "A\n",
    "\\\\\n",
    "\\otimes \n",
    "\\\\\n",
    "B\n",
    "\\end{array}\n",
    "\\right)\n",
    "\\begin{array}{c}\n",
    "|\\psi \\rangle \n",
    "\\\\\n",
    "\\otimes \n",
    "\\\\\n",
    "|\\phi\\rangle\n",
    "\\end{array}\n",
    "$$\n",
    "のように縦に並べた方がその作用の仕方わかりやすいのかもしれない。\n",
    "\n",
    "CNOT演算を用いた例えばエンタングル状態は、\n",
    "$$\n",
    "\\left(\n",
    "\\begin{array}{c}\n",
    "|0\\rangle \\langle 0|\n",
    "\\\\\n",
    "\\otimes \n",
    "\\\\\n",
    "I\n",
    "\\end{array}\n",
    "+\n",
    "\\begin{array}{c}\n",
    "|1\\rangle \\langle 1|\n",
    "\\\\\n",
    "\\otimes \n",
    "\\\\\n",
    "X\n",
    "\\end{array}\n",
    "\\right)\n",
    "\\left(\n",
    "\\begin{array}{c}\n",
    "\\frac{1}{\\sqrt{2}}(|0\\rangle + |1\\rangle)\n",
    "\\\\\n",
    "\\otimes \n",
    "\\\\\n",
    "|0\\rangle\n",
    "\\end{array}\n",
    "\\right)\n",
    "=\n",
    "\\frac{1}{\\sqrt{2}}\\left(\n",
    "\\begin{array}{c}\n",
    "|0 \\rangle \n",
    "\\\\\n",
    "\\otimes \n",
    "\\\\\n",
    "|0\\rangle\n",
    "\\end{array}\n",
    "+\n",
    "\\begin{array}{c}\n",
    "|1 \\rangle \n",
    "\\\\\n",
    "\\otimes \n",
    "\\\\\n",
    "|1\\rangle\n",
    "\\end{array}\n",
    "\\right)\n",
    "$$\n",
    "のようになる。"
   ]
  },
  {
   "cell_type": "markdown",
   "metadata": {
    "colab_type": "text",
    "id": "MYxxEJ8ejDkJ"
   },
   "source": [
    "### SymPyを用いた演算子のテンソル積\n",
    "演算子は何番目の量子ビットに作用するか、というのを指定しているので、すでにテンソル積構造をもっている。"
   ]
  },
  {
   "cell_type": "markdown",
   "metadata": {
    "colab_type": "text",
    "id": "t3L4MWITjDkL"
   },
   "source": [
    "`H(0)` は、1量子ビット空間で表示すると"
   ]
  },
  {
   "cell_type": "code",
   "execution_count": 20,
   "metadata": {
    "colab": {},
    "colab_type": "code",
    "id": "GQcwyGq3jDkL",
    "outputId": "2f4f2189-906a-44ba-8eb4-8560895bea53"
   },
   "outputs": [
    {
     "data": {
      "text/html": [
       "\n",
       "    <script>\n",
       "        if (!window.MathJax) {\n",
       "            var script = document.createElement(\"script\");\n",
       "            script.async = \"async\";\n",
       "            script.src = \"https://colab.research.google.com/static/mathjax/MathJax.js?config=TeX-AMS_HTML-full,Safe\";\n",
       "            document.head.appendChild(script);\n",
       "        }\n",
       "    </script>\n",
       "    "
      ],
      "text/plain": [
       "<IPython.core.display.HTML object>"
      ]
     },
     "metadata": {},
     "output_type": "display_data"
    },
    {
     "data": {
      "image/png": "[encoded data removed]",
      "text/latex": [
       "$$\\left[\\begin{matrix}\\frac{1}{\\sqrt{2}} & \\frac{1}{\\sqrt{2}}\\\\\\frac{1}{\\sqrt{2}} & - \\frac{\\sqrt{2}}{2}\\end{matrix}\\right]$$"
      ],
      "text/plain": [
       "⎡1    1  ⎤\n",
       "⎢──   ── ⎥\n",
       "⎢√2   √2 ⎥\n",
       "⎢        ⎥\n",
       "⎢1   -√2 ⎥\n",
       "⎢──  ────⎥\n",
       "⎣√2   2  ⎦"
      ]
     },
     "execution_count": 20,
     "metadata": {},
     "output_type": "execute_result"
    }
   ],
   "source": [
    "represent(H(0),nqubits=1)"
   ]
  },
  {
   "cell_type": "markdown",
   "metadata": {
    "colab_type": "text",
    "id": "tZpN1W-gjDkN"
   },
   "source": [
    "CNOT演算は、"
   ]
  },
  {
   "cell_type": "code",
   "execution_count": 21,
   "metadata": {
    "colab": {},
    "colab_type": "code",
    "id": "DqURihgDjDkN",
    "outputId": "d6305d23-fa04-44be-8166-6fad20ebab38"
   },
   "outputs": [
    {
     "data": {
      "text/html": [
       "\n",
       "    <script>\n",
       "        if (!window.MathJax) {\n",
       "            var script = document.createElement(\"script\");\n",
       "            script.async = \"async\";\n",
       "            script.src = \"https://colab.research.google.com/static/mathjax/MathJax.js?config=TeX-AMS_HTML-full,Safe\";\n",
       "            document.head.appendChild(script);\n",
       "        }\n",
       "    </script>\n",
       "    "
      ],
      "text/plain": [
       "<IPython.core.display.HTML object>"
      ]
     },
     "metadata": {},
     "output_type": "display_data"
    },
    {
     "data": {
      "image/png": "[encoded data removed]",
      "text/latex": [
       "$$\\left[\\begin{matrix}1 & 0 & 0 & 0\\\\0 & 1 & 0 & 0\\\\0 & 0 & 0 & 1\\\\0 & 0 & 1 & 0\\end{matrix}\\right]$$"
      ],
      "text/plain": [
       "⎡1  0  0  0⎤\n",
       "⎢          ⎥\n",
       "⎢0  1  0  0⎥\n",
       "⎢          ⎥\n",
       "⎢0  0  0  1⎥\n",
       "⎢          ⎥\n",
       "⎣0  0  1  0⎦"
      ]
     },
     "execution_count": 21,
     "metadata": {},
     "output_type": "execute_result"
    }
   ],
   "source": [
    "represent(CNOT(1,0),nqubits=2)"
   ]
  },
  {
   "cell_type": "markdown",
   "metadata": {
    "colab_type": "text",
    "id": "RDIjIr1gjDkP"
   },
   "source": [
    "2量子ビット空間で表示すると、$I \\otimes H$に対応しており、"
   ]
  },
  {
   "cell_type": "code",
   "execution_count": 22,
   "metadata": {
    "colab": {},
    "colab_type": "code",
    "id": "Kd_yAuLXjDkQ",
    "outputId": "87ce9361-229e-4e6a-a9a3-19b104977a2c"
   },
   "outputs": [
    {
     "data": {
      "text/html": [
       "\n",
       "    <script>\n",
       "        if (!window.MathJax) {\n",
       "            var script = document.createElement(\"script\");\n",
       "            script.async = \"async\";\n",
       "            script.src = \"https://colab.research.google.com/static/mathjax/MathJax.js?config=TeX-AMS_HTML-full,Safe\";\n",
       "            document.head.appendChild(script);\n",
       "        }\n",
       "    </script>\n",
       "    "
      ],
      "text/plain": [
       "<IPython.core.display.HTML object>"
      ]
     },
     "metadata": {},
     "output_type": "display_data"
    },
    {
     "data": {
      "image/png": "[encoded data removed]",
      "text/latex": [
       "$$\\left[\\begin{matrix}\\frac{1}{\\sqrt{2}} & \\frac{1}{\\sqrt{2}} & 0 & 0\\\\\\frac{1}{\\sqrt{2}} & - \\frac{\\sqrt{2}}{2} & 0 & 0\\\\0 & 0 & \\frac{1}{\\sqrt{2}} & \\frac{1}{\\sqrt{2}}\\\\0 & 0 & \\frac{1}{\\sqrt{2}} & - \\frac{\\sqrt{2}}{2}\\end{matrix}\\right]$$"
      ],
      "text/plain": [
       "⎡1    1            ⎤\n",
       "⎢──   ──   0    0  ⎥\n",
       "⎢√2   √2           ⎥\n",
       "⎢                  ⎥\n",
       "⎢1   -√2           ⎥\n",
       "⎢──  ────  0    0  ⎥\n",
       "⎢√2   2            ⎥\n",
       "⎢                  ⎥\n",
       "⎢          1    1  ⎥\n",
       "⎢0    0    ──   ── ⎥\n",
       "⎢          √2   √2 ⎥\n",
       "⎢                  ⎥\n",
       "⎢          1   -√2 ⎥\n",
       "⎢0    0    ──  ────⎥\n",
       "⎣          √2   2  ⎦"
      ]
     },
     "execution_count": 22,
     "metadata": {},
     "output_type": "execute_result"
    }
   ],
   "source": [
    "represent(H(0),nqubits=2)"
   ]
  },
  {
   "cell_type": "markdown",
   "metadata": {
    "colab_type": "text",
    "id": "MW8u4BNvjDkT"
   },
   "source": [
    "パウリ演算子のテンソル積$X\\otimes Y \\otimes Z$も、"
   ]
  },
  {
   "cell_type": "code",
   "execution_count": 23,
   "metadata": {
    "colab": {},
    "colab_type": "code",
    "id": "omfY86udjDkU",
    "outputId": "317136da-ac9d-4d2c-f2ab-c3c7065b66f9"
   },
   "outputs": [
    {
     "data": {
      "text/html": [
       "\n",
       "    <script>\n",
       "        if (!window.MathJax) {\n",
       "            var script = document.createElement(\"script\");\n",
       "            script.async = \"async\";\n",
       "            script.src = \"https://colab.research.google.com/static/mathjax/MathJax.js?config=TeX-AMS_HTML-full,Safe\";\n",
       "            document.head.appendChild(script);\n",
       "        }\n",
       "    </script>\n",
       "    "
      ],
      "text/plain": [
       "<IPython.core.display.HTML object>"
      ]
     },
     "metadata": {},
     "output_type": "display_data"
    },
    {
     "data": {
      "image/png": "[encoded data removed]",
      "text/latex": [
       "$$\\left[\\begin{matrix}0 & 0 & 0 & - i & 0 & 0 & 0 & 0\\\\0 & 0 & - i & 0 & 0 & 0 & 0 & 0\\\\0 & i & 0 & 0 & 0 & 0 & 0 & 0\\\\i & 0 & 0 & 0 & 0 & 0 & 0 & 0\\\\0 & 0 & 0 & 0 & 0 & 0 & 0 & i\\\\0 & 0 & 0 & 0 & 0 & 0 & i & 0\\\\0 & 0 & 0 & 0 & 0 & - i & 0 & 0\\\\0 & 0 & 0 & 0 & - i & 0 & 0 & 0\\end{matrix}\\right]$$"
      ],
      "text/plain": [
       "⎡0  0  0   -ⅈ  0   0   0  0⎤\n",
       "⎢                          ⎥\n",
       "⎢0  0  -ⅈ  0   0   0   0  0⎥\n",
       "⎢                          ⎥\n",
       "⎢0  ⅈ  0   0   0   0   0  0⎥\n",
       "⎢                          ⎥\n",
       "⎢ⅈ  0  0   0   0   0   0  0⎥\n",
       "⎢                          ⎥\n",
       "⎢0  0  0   0   0   0   0  ⅈ⎥\n",
       "⎢                          ⎥\n",
       "⎢0  0  0   0   0   0   ⅈ  0⎥\n",
       "⎢                          ⎥\n",
       "⎢0  0  0   0   0   -ⅈ  0  0⎥\n",
       "⎢                          ⎥\n",
       "⎣0  0  0   0   -ⅈ  0   0  0⎦"
      ]
     },
     "execution_count": 23,
     "metadata": {},
     "output_type": "execute_result"
    }
   ],
   "source": [
    "represent(X(0)*Y(1)*Z(2),nqubits=3)"
   ]
  },
  {
   "cell_type": "markdown",
   "metadata": {
    "colab_type": "text",
    "id": "L4d9cIfbjDkV"
   },
   "source": [
    "このようにして、上記のテンソル積のルールを実際にたしかめてみることができる。"
   ]
  },
  {
   "cell_type": "markdown",
   "metadata": {
    "colab_type": "text",
    "id": "-hFJMLc6jDkW"
   },
   "source": []
  },
  {
   "cell_type": "markdown",
   "metadata": {
    "colab_type": "text",
    "id": "Bt51NgB6jDkW"
   },
   "source": []
  },
  {
   "cell_type": "markdown",
   "metadata": {
    "colab_type": "text",
    "id": "u3dvyqjhjDkX"
   },
   "source": []
  },
  {
   "cell_type": "markdown",
   "metadata": {
    "colab_type": "text",
    "id": "CDfEAyJFjDkX"
   },
   "source": []
  },
  {
   "cell_type": "markdown",
   "metadata": {
    "colab_type": "text",
    "id": "UZoLco05jDkX"
   },
   "source": []
  },
  {
   "cell_type": "markdown",
   "metadata": {
    "colab_type": "text",
    "id": "wGmmJBm2jDkY"
   },
   "source": []
  },
  {
   "cell_type": "markdown",
   "metadata": {
    "colab_type": "text",
    "id": "833gBTVAjDkZ"
   },
   "source": []
  },
  {
   "cell_type": "code",
   "execution_count": null,
   "metadata": {
    "colab": {},
    "colab_type": "code",
    "id": "vzXHlNRCjDkZ"
   },
   "outputs": [],
   "source": []
  },
  {
   "cell_type": "markdown",
   "metadata": {
    "colab_type": "text",
    "id": "O1m8luwrjDkc"
   },
   "source": []
  },
  {
   "cell_type": "code",
   "execution_count": null,
   "metadata": {
    "colab": {},
    "colab_type": "code",
    "id": "udvpGQDYjDkc",
    "outputId": "17bc9ba3-f876-4d08-e2e5-1c1b9859eef4"
   },
   "outputs": [],
   "source": []
  },
  {
   "cell_type": "markdown",
   "metadata": {
    "colab_type": "text",
    "id": "yCZRvG2djDkf"
   },
   "source": []
  },
  {
   "cell_type": "code",
   "execution_count": null,
   "metadata": {
    "colab": {},
    "colab_type": "code",
    "id": "gZgL4oRyjDkf",
    "outputId": "23286cd0-6fca-4675-d1bd-92c22cdfdfe8"
   },
   "outputs": [],
   "source": []
  },
  {
   "cell_type": "code",
   "execution_count": null,
   "metadata": {
    "colab": {},
    "colab_type": "code",
    "id": "aWCDW6cUjDkh",
    "outputId": "fcf4e98e-c41e-40cf-ee06-f0932f347de0"
   },
   "outputs": [],
   "source": []
  },
  {
   "cell_type": "markdown",
   "metadata": {
    "colab_type": "text",
    "id": "TYwzdA-zjDkn"
   },
   "source": []
  },
  {
   "cell_type": "code",
   "execution_count": null,
   "metadata": {
    "colab": {},
    "colab_type": "code",
    "id": "LzQft2iRjDkn",
    "outputId": "5a30f17c-2926-426d-f668-4a95edcbb3da"
   },
   "outputs": [],
   "source": []
  },
  {
   "cell_type": "markdown",
   "metadata": {
    "colab_type": "text",
    "id": "yBHZ7_BJjDkr"
   },
   "source": []
  },
  {
   "cell_type": "code",
   "execution_count": null,
   "metadata": {
    "colab": {},
    "colab_type": "code",
    "id": "0d6_1zgTjDkr",
    "outputId": "5e9b5002-9718-46c4-aa3f-8d767d6ba506"
   },
   "outputs": [],
   "source": []
  },
  {
   "cell_type": "markdown",
   "metadata": {
    "colab_type": "text",
    "id": "RJDSFIkkjDkt"
   },
   "source": []
  },
  {
   "cell_type": "code",
   "execution_count": null,
   "metadata": {
    "colab": {},
    "colab_type": "code",
    "id": "2v8Sjtf7jDkv",
    "outputId": "d0124816-546c-47e6-e7e0-95c580715fc8"
   },
   "outputs": [],
   "source": []
  },
  {
   "cell_type": "markdown",
   "metadata": {
    "colab_type": "text",
    "id": "gEqhlhr5jDkx"
   },
   "source": []
  },
  {
   "cell_type": "markdown",
   "metadata": {
    "colab_type": "text",
    "id": "GDocm-1kjDkx"
   },
   "source": [
    "　"
   ]
  },
  {
   "cell_type": "markdown",
   "metadata": {
    "colab_type": "text",
    "id": "eP1Xsx1kjDkz"
   },
   "source": [
    "　"
   ]
  },
  {
   "cell_type": "code",
   "execution_count": null,
   "metadata": {
    "colab": {},
    "colab_type": "code",
    "id": "OBzHRgKljDkz",
    "outputId": "e9920666-79c5-442b-b8ed-24f29fd8e73a"
   },
   "outputs": [],
   "source": []
  },
  {
   "cell_type": "markdown",
   "metadata": {
    "colab_type": "text",
    "id": "pAX56ApjjDk2"
   },
   "source": []
  },
  {
   "cell_type": "markdown",
   "metadata": {
    "colab_type": "text",
    "id": "U5VnrrgzjDk3"
   },
   "source": []
  },
  {
   "cell_type": "markdown",
   "metadata": {
    "colab_type": "text",
    "id": "2WKX40Y3jDk3"
   },
   "source": [
    "　"
   ]
  },
  {
   "cell_type": "markdown",
   "metadata": {
    "colab_type": "text",
    "id": "yI9Qil_ZjDk3"
   },
   "source": [
    "　"
   ]
  },
  {
   "cell_type": "markdown",
   "metadata": {
    "colab_type": "text",
    "id": "wtMyKF-ijDk3"
   },
   "source": [
    "　"
   ]
  },
  {
   "cell_type": "code",
   "execution_count": null,
   "metadata": {
    "colab": {},
    "colab_type": "code",
    "id": "qum4BKS6jDk4",
    "outputId": "f451334d-89a3-459c-8724-fe717d55d2f7"
   },
   "outputs": [],
   "source": []
  },
  {
   "cell_type": "markdown",
   "metadata": {
    "colab_type": "text",
    "id": "uSyqiuowjDk6"
   },
   "source": []
  },
  {
   "cell_type": "code",
   "execution_count": null,
   "metadata": {
    "colab": {},
    "colab_type": "code",
    "id": "TqodKghPjDk6"
   },
   "outputs": [],
   "source": []
  },
  {
   "cell_type": "markdown",
   "metadata": {
    "colab_type": "text",
    "id": "U2ZqS0aKjDk8"
   },
   "source": []
  },
  {
   "cell_type": "code",
   "execution_count": null,
   "metadata": {
    "colab": {},
    "colab_type": "code",
    "id": "xJstDYTnjDk8",
    "outputId": "8432527c-2795-4f3a-fece-b36f1c004363"
   },
   "outputs": [],
   "source": []
  },
  {
   "cell_type": "markdown",
   "metadata": {
    "colab_type": "text",
    "id": "Figec6wxjDlA"
   },
   "source": []
  },
  {
   "cell_type": "code",
   "execution_count": null,
   "metadata": {
    "colab": {},
    "colab_type": "code",
    "id": "10TphC1VjDlB"
   },
   "outputs": [],
   "source": []
  },
  {
   "cell_type": "markdown",
   "metadata": {
    "colab_type": "text",
    "id": "25aAWgwwjDlD"
   },
   "source": []
  },
  {
   "cell_type": "code",
   "execution_count": null,
   "metadata": {
    "colab": {},
    "colab_type": "code",
    "id": "BBw_L0u5jDlD"
   },
   "outputs": [],
   "source": []
  },
  {
   "cell_type": "markdown",
   "metadata": {
    "colab_type": "text",
    "id": "EVbqWhSEjDlG"
   },
   "source": []
  },
  {
   "cell_type": "code",
   "execution_count": null,
   "metadata": {
    "colab": {},
    "colab_type": "code",
    "id": "KnuPRcnhjDlH"
   },
   "outputs": [],
   "source": []
  },
  {
   "cell_type": "markdown",
   "metadata": {
    "colab_type": "text",
    "id": "inMf8GBFjDlH"
   },
   "source": []
  },
  {
   "cell_type": "code",
   "execution_count": null,
   "metadata": {
    "colab": {},
    "colab_type": "code",
    "id": "kc4jHoAOjDlI"
   },
   "outputs": [],
   "source": []
  },
  {
   "cell_type": "markdown",
   "metadata": {
    "colab_type": "text",
    "id": "107Yqr8rjDlJ"
   },
   "source": []
  },
  {
   "cell_type": "code",
   "execution_count": null,
   "metadata": {
    "colab": {},
    "colab_type": "code",
    "id": "gy6izO6QjDlJ"
   },
   "outputs": [],
   "source": []
  },
  {
   "cell_type": "code",
   "execution_count": null,
   "metadata": {
    "colab": {},
    "colab_type": "code",
    "id": "i9iF6T0vjDlK"
   },
   "outputs": [],
   "source": []
  },
  {
   "cell_type": "markdown",
   "metadata": {
    "colab_type": "text",
    "id": "GWF7ecGKjDlM"
   },
   "source": []
  },
  {
   "cell_type": "markdown",
   "metadata": {
    "colab_type": "text",
    "id": "pXex826fjDlM"
   },
   "source": []
  },
  {
   "cell_type": "code",
   "execution_count": null,
   "metadata": {
    "colab": {},
    "colab_type": "code",
    "id": "vN_3m4JMjDlO",
    "outputId": "47e70a27-31b6-41da-94fd-c1216812cc98"
   },
   "outputs": [],
   "source": []
  },
  {
   "cell_type": "markdown",
   "metadata": {
    "colab_type": "text",
    "id": "A70PpT3WjDlS"
   },
   "source": [
    "しかし実際、入力に作用させると、"
   ]
  },
  {
   "cell_type": "code",
   "execution_count": 24,
   "metadata": {
    "colab": {},
    "colab_type": "code",
    "id": "jjjhmDFWjDlT",
    "outputId": "e1307f12-2550-43e2-ca4f-bf2ad7621ce3"
   },
   "outputs": [
    {
     "data": {
      "text/html": [
       "\n",
       "    <script>\n",
       "        if (!window.MathJax) {\n",
       "            var script = document.createElement(\"script\");\n",
       "            script.async = \"async\";\n",
       "            script.src = \"https://colab.research.google.com/static/mathjax/MathJax.js?config=TeX-AMS_HTML-full,Safe\";\n",
       "            document.head.appendChild(script);\n",
       "        }\n",
       "    </script>\n",
       "    "
      ],
      "text/plain": [
       "<IPython.core.display.HTML object>"
      ]
     },
     "metadata": {},
     "output_type": "display_data"
    },
    {
     "ename": "NameError",
     "evalue": "name 'PhaEst' is not defined",
     "output_type": "error",
     "traceback": [
      "\u001b[0;31m---------------------------------------------------------------------------\u001b[0m",
      "\u001b[0;31mNameError\u001b[0m                                 Traceback (most recent call last)",
      "\u001b[0;32m<ipython-input-24-b7eb6276c8b1>\u001b[0m in \u001b[0;36m<module>\u001b[0;34m\u001b[0m\n\u001b[0;32m----> 1\u001b[0;31m \u001b[0msimplify\u001b[0m\u001b[0;34m(\u001b[0m\u001b[0mqapply\u001b[0m\u001b[0;34m(\u001b[0m\u001b[0mPhaEst\u001b[0m\u001b[0;34m*\u001b[0m\u001b[0mQubit\u001b[0m\u001b[0;34m(\u001b[0m\u001b[0;34m\"00011\"\u001b[0m\u001b[0;34m)\u001b[0m\u001b[0;34m)\u001b[0m\u001b[0;34m)\u001b[0m\u001b[0;34m\u001b[0m\u001b[0;34m\u001b[0m\u001b[0m\n\u001b[0m",
      "\u001b[0;31mNameError\u001b[0m: name 'PhaEst' is not defined"
     ]
    }
   ],
   "source": [
    "simplify(qapply(PhaEst*Qubit(\"00011\")))"
   ]
  },
  {
   "cell_type": "markdown",
   "metadata": {
    "colab_type": "text",
    "id": "m3vF84zljDlV"
   },
   "source": [
    "のように設計通り単純な解が得られることが確認できる。実際、補助量子ビット2,3,4にそれぞれ、011が得られたので固有値の位相の２進小数0.011が得られている！他の入力に対しても、"
   ]
  },
  {
   "cell_type": "code",
   "execution_count": null,
   "metadata": {
    "colab": {},
    "colab_type": "code",
    "id": "f4U1dG2yjDlW",
    "outputId": "bdf5de73-22fc-44f0-fdf5-99d8c211e2fa"
   },
   "outputs": [],
   "source": [
    "simplify(qapply(PhaEst*Qubit(\"00000\")))"
   ]
  },
  {
   "cell_type": "code",
   "execution_count": null,
   "metadata": {
    "colab": {},
    "colab_type": "code",
    "id": "Q0Xi1vm1jDlY",
    "outputId": "dd80d888-023d-4fa0-8a00-d44e374962c6"
   },
   "outputs": [],
   "source": [
    "simplify(qapply(PhaEst*Qubit(\"00010\")))"
   ]
  },
  {
   "cell_type": "code",
   "execution_count": null,
   "metadata": {
    "colab": {},
    "colab_type": "code",
    "id": "ljGRfiOPjDlb",
    "outputId": "e448b03d-8446-4e93-b3e6-cb9dc63a1592"
   },
   "outputs": [],
   "source": [
    "simplify(qapply(PhaEst*Qubit(\"00001\")))"
   ]
  },
  {
   "cell_type": "markdown",
   "metadata": {
    "colab_type": "text",
    "id": "O0102fjDjDld"
   },
   "source": [
    "のように、４種類の固有値の位相情報が３つの補助量子ビットに得られた。入力状態が、重ね合わせ状態の場合は、"
   ]
  },
  {
   "cell_type": "code",
   "execution_count": null,
   "metadata": {
    "colab": {},
    "colab_type": "code",
    "id": "TASmXwW4jDld",
    "outputId": "e4878068-6a6c-4a6b-aec6-f92c9d9fd256"
   },
   "outputs": [],
   "source": [
    "simplify(qapply(PhaEst*H(0)*H(1)*Qubit(\"00000\")))"
   ]
  },
  {
   "cell_type": "markdown",
   "metadata": {
    "colab_type": "text",
    "id": "JPAZhJDQjDle"
   },
   "source": [
    "のように、それぞれの固有ベクトルに対して、固有値の位相が３つの補助量子ビットへと重ね合わせのまま取り出されている。補助量子ビットを測定すると、確率的に、どれか一つの固有ベクトルと固有値が得られる。簡単のためあらかじめ対角化された4×4行列の位相推定を構成したが、もちろん一般のユニタリ$U$に対して動作する。\n",
    "\n",
    "### 素因数分解と位相推定\n",
    "\n",
    "位相推定の最も重要な応用の一つである素因数分解アルゴリズムを紹介する．\n",
    "素因数分解問題は$n$桁の整数$N$が与えられた時に$N$の1ではない約数を\n",
    "見つける問題であり，従来のコンピュータでは多項式時間で解けるアルゴルズムは\n",
    "見つかっていない．現在のベストアルゴリズムの計算コストは，\n",
    "\\begin{eqnarray}\n",
    "O(\\exp \\left[\\frac{64}{9} n (\\log n )^2 \\right]^{1/3})\n",
    "\\end{eqnarray}\n",
    "であり，準指数的な計算時間がかかる．\n",
    "このような素因数分解問題の難しさを利用した暗号RSA暗号などが日常的にも使われている．\n",
    "\n",
    "P. Shorは1994年に，\n",
    "量子コンピュータを用いることによって素因数分解問題が桁数$n$に対して多項式時間で解くことができる\n",
    "ことを示した．これがいわゆるShorの素因数分解アルゴリズムである．\n",
    "\n",
    "$N$を素因数分解したい整数だとしよう．\n",
    "$N$と互いに素な整数$x$を見つけてくる．\n",
    "適当に$x$を選んできて，ユークリッドの互除法によって\n",
    "最大公約数を計算し，1以外の整数であれば非自明な約数がみつかったことになり，\n",
    "1しかなければ互いに素な整数であることになる．\n",
    "この$N$と$x$から公約数を見つけるために，位数$r$を求めることになる．\n",
    "位数$r$とは，\n",
    "\\begin{eqnarray}\n",
    "x^r = 1 \\textrm{ (mod $N$)}\n",
    "\\label{eq:factor}\n",
    "\\end{eqnarray}\n",
    "を満たす最小の整数である．\n",
    "ランダムに$x$を選ぶと，高い確率で$r$は偶数になることが知られている．\n",
    "$r$が偶数であると，\n",
    "(\\ref{eq:factor})式から\n",
    "\\begin{eqnarray}\n",
    "(x^{r/2} + 1) (x^{r/2} - 1)  \\equiv 0  \\textrm{ (mod $N$)}\n",
    "\\end{eqnarray}\n",
    "のように変形することができる．\n",
    "このとき，$x^{r/2} + 1$もしくは$x^{r/2} - 1$\n",
    "の積が mod $N$ で0なので，$x^{r/2} + 1 = 0 \\textrm{ (mod $N$)}$になるか，\n",
    "$x^{r/2} + 1$と$x^{r/2} - 1$が$N$と非自明な公約数をもつかのどちらかになる．\n",
    "$x$をランダムに選ぶと後者の確率が十分高いことも示すことができ，\n",
    "最終的に非自明な公約数が見つかることになる．\n",
    "これを繰り返していくことによって，素数因数へと分解することができる．\n",
    "\n",
    "　素因数分解の鍵となる位数$r$は、実は入力yをmod Nのもとでx倍するという古典計算に対応したユニタリ行列\n",
    "$$\n",
    "U_x = \\sum _y |yx {\\rm (mod N)}\\rangle \\langle y|\n",
    "$$\n",
    "の固有値を求めることによって決定することができる。実際、固有状態のラベル$0 \\leq s \\leq r-1$を用いて，固有ベクトルは \n",
    "$$\n",
    "|u_s\\rangle = \\frac{1}{\\sqrt{r}}\n",
    "\\sum _{k=0}^{r-1} e^ {-2 \\pi i (s/r) k }|x^k \\textrm{ (mod $N$)}\\rangle.\n",
    "$$\n",
    "と書き下すことができ、\n",
    "$$\n",
    "U_x |u_s \\rangle =  e^{2 \\pi i (s/r)} |u_s \\rangle\n",
    "$$\n",
    "を満たす。つめり固有値の位相推定から$s/r$を求めその分母として$r$を得ることができる。これがいわゆる、ショアによる素因数分解アルゴリズム（キタエフの位相推定を利用したバージョン）である。"
   ]
  },
  {
   "cell_type": "markdown",
   "metadata": {
    "colab_type": "text",
    "id": "ugWc4fpmjDlf"
   },
   "source": [
    "### まとめ\n",
    "ここでは、SymPyの代数処理機能を用いて、量子力学、特にテンソル積の代数を実際に手を動かしながら確認してきた。簡単な系であれば、このように直接状態をシンボルとして書き出すことができるので、計算の確認などに便利である。そして、SymPyを用いながら、もっとも重要な量子アルゴリズムの一つである位相推定アルゴリズムを紹介した。位相推定アルゴリズムは、あるユニタリ行列$U$の固有値を補助量子ビットに取り出すことができる量子アルゴリズムである。素因数分解は、この位相推定アルゴリズムによって、位数という数字を推定することによって解くことができる。また、量子力学においてエネルギーはハミルトニアンと呼ばれる行列の固有値によって与えられる。もっとも安定的な状態のエネルギーはもっとも小さい値の固有値、安定な状態は対応する固有ベクトルで与えられる。ハミルトニアン自体はユニタリー行列ではないので、行列の指数関数で定義される時間発展に対応するユニタリ行列$e^{-i H t}$に対して位相推定を行うことによって、エネルギーを計算することができる。ほかにも、位相推定による固有値の取り出しを用いて、線形連立方程式の解法や、その機械学習への応用が研究されている。"
   ]
  },
  {
   "cell_type": "code",
   "execution_count": null,
   "metadata": {
    "colab": {},
    "colab_type": "code",
    "id": "6b2sZ8rFjDlf"
   },
   "outputs": [],
   "source": []
  }
 ],
 "metadata": {
  "colab": {
   "name": "1_basics_of_quantum_information.ipynb",
   "provenance": [],
   "version": "0.3.2"
  },
  "kernelspec": {
   "display_name": "Python 3",
   "language": "python",
   "name": "python3"
  },
  "language_info": {
   "codemirror_mode": {
    "name": "ipython",
    "version": 3
   },
   "file_extension": ".py",
   "mimetype": "text/x-python",
   "name": "python",
   "nbconvert_exporter": "python",
   "pygments_lexer": "ipython3",
   "version": "3.7.2"
  }
 },
 "nbformat": 4,
 "nbformat_minor": 1
}
